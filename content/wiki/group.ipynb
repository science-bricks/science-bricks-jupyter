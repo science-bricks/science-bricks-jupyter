{
 "cells": [
  {
   "cell_type": "markdown",
   "id": "eab3e6af-ccff-4310-8c7e-64695015c112",
   "metadata": {},
   "source": [
    "# Group\n",
    "\n",
    "A [group](group.ipynb) $(S,\\bullet)$ is a set $S$ equipped with a [map](map.ipynb)\n",
    "$$    \n",
    "\\begin{array}{crcl}\n",
    "    \\bullet : & S \\times S  & \\to & S\\\\\n",
    "              & (s_1, s_2)  & \\mapsto  & s_1 \\bullet s_2\n",
    "\\end{array}\n",
    "$$\n",
    "such that, $\\forall a,b,c \\in S$, satisfies \n",
    "- $(\\bullet)$ Associative:\n",
    "$$\n",
    "(a \\bullet b) \\bullet c = a \\bullet ( b \\bullet c) \n",
    "$$\n",
    "- $(\\bullet)$ Neutral element.\n",
    "$$\n",
    "\\exists i : i \\bullet a = a \\bullet i = a\n",
    "$$\n",
    "- $(\\bullet)$ Inverse element. \n",
    "$$\n",
    "\\exists (a^{-1}) : a \\bullet a^{-1} = a^{-1} \\bullet a = i\n",
    "$$\n",
    "\n",
    "Mnemonic: ANI"
   ]
  }
 ],
 "metadata": {
  "kernelspec": {
   "display_name": "Python 3 (ipykernel)",
   "language": "python",
   "name": "python3"
  },
  "language_info": {
   "codemirror_mode": {
    "name": "ipython",
    "version": 3
   },
   "file_extension": ".py",
   "mimetype": "text/x-python",
   "name": "python",
   "nbconvert_exporter": "python",
   "pygments_lexer": "ipython3",
   "version": "3.9.7"
  }
 },
 "nbformat": 4,
 "nbformat_minor": 5
}
