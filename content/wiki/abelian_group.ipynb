{
 "cells": [
  {
   "cell_type": "markdown",
   "id": "00e99991-99eb-4fe5-ba26-7207f7ed2d57",
   "metadata": {},
   "source": [
    "# Abelian group\n",
    "\n",
    "An [abelian group](abelian_group.ipynb) is a [commutative group](commutative_group.ipynb)."
   ]
  }
 ],
 "metadata": {
  "kernelspec": {
   "display_name": "Python 3 (ipykernel)",
   "language": "python",
   "name": "python3"
  },
  "language_info": {
   "codemirror_mode": {
    "name": "ipython",
    "version": 3
   },
   "file_extension": ".py",
   "mimetype": "text/x-python",
   "name": "python",
   "nbconvert_exporter": "python",
   "pygments_lexer": "ipython3",
   "version": "3.9.13"
  }
 },
 "nbformat": 4,
 "nbformat_minor": 5
}
