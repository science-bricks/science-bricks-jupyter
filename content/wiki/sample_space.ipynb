{
 "cells": [
  {
   "cell_type": "markdown",
   "id": "03eb421d-4db7-4211-9af1-094b23b7756d",
   "metadata": {},
   "source": [
    "# Sample Space\n",
    "\n",
    "The Sample Space $\\Omega$ is the set of all possible outcomes of an experiment."
   ]
  }
 ],
 "metadata": {
  "kernelspec": {
   "display_name": "Python 3 (ipykernel)",
   "language": "python",
   "name": "python3"
  },
  "language_info": {
   "codemirror_mode": {
    "name": "ipython",
    "version": 3
   },
   "file_extension": ".py",
   "mimetype": "text/x-python",
   "name": "python",
   "nbconvert_exporter": "python",
   "pygments_lexer": "ipython3",
   "version": "3.9.7"
  }
 },
 "nbformat": 4,
 "nbformat_minor": 5
}
