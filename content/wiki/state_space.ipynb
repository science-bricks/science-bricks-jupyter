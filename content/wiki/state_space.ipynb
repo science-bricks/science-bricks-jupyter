{
 "cells": [
  {
   "cell_type": "markdown",
   "id": "70e3b18c-5099-4121-a79e-3ea5a203678b",
   "metadata": {},
   "source": [
    "# State Space\n",
    "\n",
    "The [State Space](state_space.ipynb) of an [object](object.ipynb) is the [set](set.ipynb) of all possible configurations that it can take.\n",
    "\n",
    "Stochastically, it can be defined as a [measurable space](measurable_space.ipynb) into which a [random variable](random_variable.ipynb) from a [probability space](probability_space.ipynb) is a [measurable function](measurable_function.ipynb)"
   ]
  }
 ],
 "metadata": {
  "kernelspec": {
   "display_name": "Python 3 (ipykernel)",
   "language": "python",
   "name": "python3"
  },
  "language_info": {
   "codemirror_mode": {
    "name": "ipython",
    "version": 3
   },
   "file_extension": ".py",
   "mimetype": "text/x-python",
   "name": "python",
   "nbconvert_exporter": "python",
   "pygments_lexer": "ipython3",
   "version": "3.10.7"
  }
 },
 "nbformat": 4,
 "nbformat_minor": 5
}
