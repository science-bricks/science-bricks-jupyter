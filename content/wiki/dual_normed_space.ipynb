{
 "cells": [
  {
   "cell_type": "markdown",
   "id": "506634e1-53be-4e34-a836-7c95142671d1",
   "metadata": {},
   "source": [
    "# Dual normed space\n",
    "\n",
    "A [dual normed space](dual_normed_space.ipynb) $(V^*,+,\\cdot,\\|\\cdot\\|_{V^*})$ of a [normed space](normed_space.ipynb) $(V,+,\\cdot,\\|\\cdot\\|_V)$ is a [banach space](banach_space.ipynb)  where $(V^*,+,\\cdot)$ is the [dual vector space](dual_vector_space.ipynb) of $(V,+,\\cdot)$ and $\\|\\cdot\\|_{V^*}$ is the [operator norm](operator_norm.ipynb) of $V^*$."
   ]
  }
 ],
 "metadata": {
  "kernelspec": {
   "display_name": "Python 3 (ipykernel)",
   "language": "python",
   "name": "python3"
  },
  "language_info": {
   "codemirror_mode": {
    "name": "ipython",
    "version": 3
   },
   "file_extension": ".py",
   "mimetype": "text/x-python",
   "name": "python",
   "nbconvert_exporter": "python",
   "pygments_lexer": "ipython3",
   "version": "3.9.7"
  }
 },
 "nbformat": 4,
 "nbformat_minor": 5
}
