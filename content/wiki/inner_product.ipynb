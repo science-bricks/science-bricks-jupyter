{
 "cells": [
  {
   "cell_type": "markdown",
   "id": "71cac810-38f1-4451-8b98-7067d458b10a",
   "metadata": {},
   "source": [
    "# Inner Product\n",
    "\n",
    "An [inner product](inner_product.ipynb) is a [map](map.ipynb) $<\\cdot, \\cdot> V \\times V \\to K$ that takes two [vectors](vector.ipynb) in $(V,\\oplus,\\odot)$ over the [field](field.ipynb) $(K,+,\\cdot)$ and returns a [scalar](scalar.ipynb) in $(K,+,\\cdot)$, satisfying:\n",
    "\n",
    "- Sesqui-linearity: \n",
    "$$\n",
    "<\\psi, \\phi_1 \\oplus \\alpha \\odot \\phi_2> = <\\psi, \\phi_1> + \\alpha \\cdot <\\psi, \\phi_2>\n",
    "$$\n",
    "- Hermitian symmetry: \n",
    "$$\n",
    "<\\phi, \\psi> = \\overline{<\\psi, \\phi>}\n",
    "$$\n",
    "- Positive definiteness: \n",
    "$$\n",
    "\\forall \\psi \\in \\mathcal{H} : <\\psi, \\psi> \\geq 0\n",
    "$$\n",
    "\n",
    "where the overline means conjugate (applicable to complex vector spaces)."
   ]
  }
 ],
 "metadata": {
  "kernelspec": {
   "display_name": "Python 3 (ipykernel)",
   "language": "python",
   "name": "python3"
  },
  "language_info": {
   "codemirror_mode": {
    "name": "ipython",
    "version": 3
   },
   "file_extension": ".py",
   "mimetype": "text/x-python",
   "name": "python",
   "nbconvert_exporter": "python",
   "pygments_lexer": "ipython3",
   "version": "3.9.7"
  }
 },
 "nbformat": 4,
 "nbformat_minor": 5
}
