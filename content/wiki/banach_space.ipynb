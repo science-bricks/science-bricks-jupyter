{
 "cells": [
  {
   "cell_type": "markdown",
   "id": "5ed4430d-7d34-4b92-b457-53810176c4f1",
   "metadata": {},
   "source": [
    "# Banach spaces\n",
    "\n",
    "A [banach space](banach_space.ipynb) $(V,+,\\cdot,\\| \\cdot \\|)$ is a [normed space](normed_space.ipynb) $(V,+,\\cdot,\\| \\cdot \\|)$ that is [complete](complete_metric_space.ipynb)."
   ]
  }
 ],
 "metadata": {
  "kernelspec": {
   "display_name": "Python 3 (ipykernel)",
   "language": "python",
   "name": "python3"
  },
  "language_info": {
   "codemirror_mode": {
    "name": "ipython",
    "version": 3
   },
   "file_extension": ".py",
   "mimetype": "text/x-python",
   "name": "python",
   "nbconvert_exporter": "python",
   "pygments_lexer": "ipython3",
   "version": "3.9.7"
  }
 },
 "nbformat": 4,
 "nbformat_minor": 5
}
