{
  "metadata": {
    "kernelspec": {
      "name": "python",
      "display_name": "Python (Pyodide)",
      "language": "python"
    },
    "language_info": {
      "codemirror_mode": {
        "name": "python",
        "version": 3
      },
      "file_extension": ".py",
      "mimetype": "text/x-python",
      "name": "python",
      "nbconvert_exporter": "python",
      "pygments_lexer": "ipython3",
      "version": "3.8"
    }
  },
  "nbformat_minor": 5,
  "nbformat": 4,
  "cells": [
    {
      "cell_type": "markdown",
      "source": "# Intelligent Agent\n\nAn [Intelligent Agent](intelligent_agent.ipynb) is a [program](program.ipynb) that is able to [perceive](perceive.ipynb) and [act](act.ipynb) to [optimize](optimize.ipynb) a given [goal](goal.ipynb).\n\n<div align=\"center\">\n<img src=\"img/alpha_go.jpg\">\n</div>\n\n<div align=\"center\"> AlphaGo [<a href=\"https://deepmind.com/research/case-studies/alphago-the-story-so-far\">DeepMind, 2017</a>]\n</div>",
      "metadata": {},
      "id": "fd2dd1a6-19d7-4d84-8e51-6e4a0a44fd9c"
    }
  ]
}