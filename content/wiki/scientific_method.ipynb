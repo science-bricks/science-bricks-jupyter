{
 "cells": [
  {
   "cell_type": "markdown",
   "id": "21a3565e-eea6-4306-9536-fa34a04624a5",
   "metadata": {},
   "source": [
    "# Scientific Method\n",
    "\n",
    "The [scientific method](scientific_method.ipynb) is the following process of acquiring knowledge:\n",
    "\n",
    "### 1. Formulate an Hypothesis\n",
    "First, we cast our concept of the real world into precise mathematical language. If this cannot be donde, it is often a sign that the concept is not well understood.\n",
    "\n",
    "### 2. Derive Predictions\n",
    "We explore the implications of our concepts using mathematics, arriving to conclusions and predictions about the real world.\n",
    "\n",
    "### 3. Test Predictions\n",
    "We test how well our predictions fit the real world, assessing their validity, scope and accuracy.\n",
    "\n",
    "\n",
    "\n",
    "<div align=\"center\">\n",
    "<img src=\"img/scientific_method.png\" style=\"width: 380px\">\n",
    "</div>"
   ]
  }
 ],
 "metadata": {
  "kernelspec": {
   "display_name": "Python 3 (ipykernel)",
   "language": "python",
   "name": "python3"
  },
  "language_info": {
   "codemirror_mode": {
    "name": "ipython",
    "version": 3
   },
   "file_extension": ".py",
   "mimetype": "text/x-python",
   "name": "python",
   "nbconvert_exporter": "python",
   "pygments_lexer": "ipython3",
   "version": "3.10.6"
  }
 },
 "nbformat": 4,
 "nbformat_minor": 5
}
