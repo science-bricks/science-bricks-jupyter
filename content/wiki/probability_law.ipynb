{
 "cells": [
  {
   "cell_type": "markdown",
   "id": "d1486605-04ad-4dad-b393-00a0f00d0199",
   "metadata": {},
   "source": [
    "# Probability Law\n",
    "\n",
    "A Probability Law is a map that assign a [probability](probability.ipynb) to each element of the [sample space](sample_space.ipynb)."
   ]
  }
 ],
 "metadata": {
  "kernelspec": {
   "display_name": "Python 3 (ipykernel)",
   "language": "python",
   "name": "python3"
  },
  "language_info": {
   "codemirror_mode": {
    "name": "ipython",
    "version": 3
   },
   "file_extension": ".py",
   "mimetype": "text/x-python",
   "name": "python",
   "nbconvert_exporter": "python",
   "pygments_lexer": "ipython3",
   "version": "3.9.7"
  }
 },
 "nbformat": 4,
 "nbformat_minor": 5
}
