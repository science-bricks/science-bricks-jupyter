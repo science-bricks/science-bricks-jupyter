{
 "cells": [
  {
   "cell_type": "markdown",
   "id": "c0d3446a-5cf3-4013-bd2f-521276466317",
   "metadata": {},
   "source": [
    "# Intersection\n",
    "\n",
    "The [intersection](intersection.ipynb) is a [map](map.ipynb) that takes two [sets](set.ipynb) and returns the set of containing their common [elements](element.ipynb). Mathematically:\n",
    "$$\n",
    "A \\cap B = \\{x \\in A: x \\in B\\}\n",
    "$$"
   ]
  },
  {
   "cell_type": "code",
   "execution_count": 5,
   "id": "e7db51c4-cd94-48ae-838c-e64954c944d7",
   "metadata": {},
   "outputs": [
    {
     "name": "stdout",
     "output_type": "stream",
     "text": [
      "{4, 5}\n",
      "{4, 5}\n"
     ]
    }
   ],
   "source": [
    "def intersection(A,B):\n",
    "    common_elements = []\n",
    "    for element in A:\n",
    "        if element in B:\n",
    "            common_elements.append(element)\n",
    "    return set(common_elements)\n",
    "\n",
    "A = {1,2,3,4,5}\n",
    "B = {4,5,6,7,8}\n",
    "print(intersection(A,B))\n",
    "print(A & B)"
   ]
  }
 ],
 "metadata": {
  "kernelspec": {
   "display_name": "Python 3 (ipykernel)",
   "language": "python",
   "name": "python3"
  },
  "language_info": {
   "codemirror_mode": {
    "name": "ipython",
    "version": 3
   },
   "file_extension": ".py",
   "mimetype": "text/x-python",
   "name": "python",
   "nbconvert_exporter": "python",
   "pygments_lexer": "ipython3",
   "version": "3.9.7"
  }
 },
 "nbformat": 4,
 "nbformat_minor": 5
}
