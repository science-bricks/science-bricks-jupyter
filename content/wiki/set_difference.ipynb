{
 "cells": [
  {
   "cell_type": "markdown",
   "id": "83a53953-dcf8-43cb-9932-696560d84bb3",
   "metadata": {},
   "source": [
    "# Set Difference\n",
    "The [difference](set_difference.ipynb) between two [sets](set.ipynb) $A$ and $B$ is defined by:\n",
    "$$\n",
    "A \\setminus B = \\{x : x \\in A, x \\notin B \\}\n",
    "$$"
   ]
  },
  {
   "cell_type": "markdown",
   "id": "160cc67e-66b2-420a-a950-c7704d233962",
   "metadata": {},
   "source": [
    "### Example:\n",
    "Consider the following sets:"
   ]
  },
  {
   "cell_type": "code",
   "execution_count": 1,
   "id": "3761dca3-e6f3-4610-b697-0b7382bf8e40",
   "metadata": {},
   "outputs": [],
   "source": [
    "A = {1, 2, 3}\n",
    "B = {3, 4, 5}"
   ]
  },
  {
   "cell_type": "markdown",
   "id": "ab66aff4-2591-436d-a2ce-0fa34a616573",
   "metadata": {},
   "source": [
    "Then, their difference is"
   ]
  },
  {
   "cell_type": "code",
   "execution_count": 2,
   "id": "3a511179-23c6-481d-a92a-142cfae9eabc",
   "metadata": {},
   "outputs": [
    {
     "name": "stdout",
     "output_type": "stream",
     "text": [
      "{1, 2}\n"
     ]
    }
   ],
   "source": [
    "print(A-B)"
   ]
  }
 ],
 "metadata": {
  "kernelspec": {
   "display_name": "Python 3 (ipykernel)",
   "language": "python",
   "name": "python3"
  },
  "language_info": {
   "codemirror_mode": {
    "name": "ipython",
    "version": 3
   },
   "file_extension": ".py",
   "mimetype": "text/x-python",
   "name": "python",
   "nbconvert_exporter": "python",
   "pygments_lexer": "ipython3",
   "version": "3.9.7"
  }
 },
 "nbformat": 4,
 "nbformat_minor": 5
}
