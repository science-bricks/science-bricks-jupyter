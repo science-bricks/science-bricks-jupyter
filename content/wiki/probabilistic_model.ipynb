{
 "cells": [
  {
   "cell_type": "markdown",
   "id": "28676e8f-2f63-4bf9-994b-52376db42af5",
   "metadata": {},
   "source": [
    "# Probabilistic Model\n",
    "\n",
    "A Probabilistic Model is a mathematical description of an uncertain situation. Its two main ingredients are:\n",
    "\n",
    "- The Sample Space "
   ]
  }
 ],
 "metadata": {
  "kernelspec": {
   "display_name": "Python 3 (ipykernel)",
   "language": "python",
   "name": "python3"
  },
  "language_info": {
   "codemirror_mode": {
    "name": "ipython",
    "version": 3
   },
   "file_extension": ".py",
   "mimetype": "text/x-python",
   "name": "python",
   "nbconvert_exporter": "python",
   "pygments_lexer": "ipython3",
   "version": "3.9.7"
  }
 },
 "nbformat": 4,
 "nbformat_minor": 5
}
