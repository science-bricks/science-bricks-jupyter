{
 "cells": [
  {
   "cell_type": "markdown",
   "id": "7bc63a40-7d77-40a9-9424-a84be5ec1f0d",
   "metadata": {},
   "source": [
    "# Reinforcement Learning\n",
    "Reinforcement Learning is Approximate [Dynamic Programming](dynamic_programming.ipynb)"
   ]
  }
 ],
 "metadata": {
  "kernelspec": {
   "display_name": "Python 3 (ipykernel)",
   "language": "python",
   "name": "python3"
  },
  "language_info": {
   "codemirror_mode": {
    "name": "ipython",
    "version": 3
   },
   "file_extension": ".py",
   "mimetype": "text/x-python",
   "name": "python",
   "nbconvert_exporter": "python",
   "pygments_lexer": "ipython3",
   "version": "3.9.7"
  }
 },
 "nbformat": 4,
 "nbformat_minor": 5
}
