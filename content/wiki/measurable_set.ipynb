{
 "cells": [
  {
   "cell_type": "markdown",
   "id": "5aa9358c-715f-4f00-8b17-72b09b189514",
   "metadata": {},
   "source": [
    "# Measurable Set\n",
    "A [measurable set](measurable_set.ipynb) is an element of a [$\\sigma$-algebra](sigma_algebra.ipynb)"
   ]
  }
 ],
 "metadata": {
  "kernelspec": {
   "display_name": "Python 3 (ipykernel)",
   "language": "python",
   "name": "python3"
  },
  "language_info": {
   "codemirror_mode": {
    "name": "ipython",
    "version": 3
   },
   "file_extension": ".py",
   "mimetype": "text/x-python",
   "name": "python",
   "nbconvert_exporter": "python",
   "pygments_lexer": "ipython3",
   "version": "3.9.7"
  }
 },
 "nbformat": 4,
 "nbformat_minor": 5
}
