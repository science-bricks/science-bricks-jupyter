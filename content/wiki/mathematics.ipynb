{
 "cells": [
  {
   "cell_type": "markdown",
   "id": "257de5c3-058e-424f-80dc-489b7937798f",
   "metadata": {},
   "source": [
    "# Mathematics\n",
    "\n",
    "[Mathematics](mathematics.ipynb) is the language of [science.ipynb](science.ipynb)."
   ]
  }
 ],
 "metadata": {
  "kernelspec": {
   "display_name": "Python 3 (ipykernel)",
   "language": "python",
   "name": "python3"
  },
  "language_info": {
   "codemirror_mode": {
    "name": "ipython",
    "version": 3
   },
   "file_extension": ".py",
   "mimetype": "text/x-python",
   "name": "python",
   "nbconvert_exporter": "python",
   "pygments_lexer": "ipython3",
   "version": "3.10.6"
  }
 },
 "nbformat": 4,
 "nbformat_minor": 5
}
