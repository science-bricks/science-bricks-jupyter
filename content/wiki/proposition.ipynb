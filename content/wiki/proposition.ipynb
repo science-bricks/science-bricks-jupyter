{
 "cells": [
  {
   "cell_type": "markdown",
   "id": "1693bb05-69fe-4cf6-941b-7cab74e104cb",
   "metadata": {},
   "source": [
    "# Proposition\n",
    "\n",
    "A [proposition](proposition.ipynb) $p$ is a statement that can only be True or False.\n",
    "\n",
    "Examples:\n",
    "\n",
    "- \"If I can read this, I am alive\"\n",
    "  - Always **True**. Also known as a **tautology**.\n",
    "- \"All cars are red\".\n",
    "  - Always **False**. Also known as a **contradiction**.\n",
    "- \"I am hungry\".\n",
    "  - **True** or **False**. Now it is **True**, but pizza is coming. Soon it will be **False**."
   ]
  }
 ],
 "metadata": {
  "kernelspec": {
   "display_name": "Python 3 (ipykernel)",
   "language": "python",
   "name": "python3"
  },
  "language_info": {
   "codemirror_mode": {
    "name": "ipython",
    "version": 3
   },
   "file_extension": ".py",
   "mimetype": "text/x-python",
   "name": "python",
   "nbconvert_exporter": "python",
   "pygments_lexer": "ipython3",
   "version": "3.9.13"
  },
  "vscode": {
   "interpreter": {
    "hash": "3781b82eb17df9c66af38e9c307b014ba2843529dac39acee0a0cd57a3435555"
   }
  }
 },
 "nbformat": 4,
 "nbformat_minor": 5
}
