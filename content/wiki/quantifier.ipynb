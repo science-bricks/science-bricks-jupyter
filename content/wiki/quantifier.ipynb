{
 "cells": [
  {
   "cell_type": "markdown",
   "metadata": {},
   "source": [
    "# Quantifier\n",
    "\n",
    "A [quantifier](quantifier.ipynb) is an [object](object.ipynb) that specify the elements that satisfy a given predicate."
   ]
  }
 ],
 "metadata": {
  "kernelspec": {
   "display_name": "Python 3.9.13 ('.venv': poetry)",
   "language": "python",
   "name": "python3"
  },
  "language_info": {
   "name": "python",
   "version": "3.9.13"
  },
  "orig_nbformat": 4,
  "vscode": {
   "interpreter": {
    "hash": "3781b82eb17df9c66af38e9c307b014ba2843529dac39acee0a0cd57a3435555"
   }
  }
 },
 "nbformat": 4,
 "nbformat_minor": 2
}
