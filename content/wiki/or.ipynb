{
 "cells": [
  {
   "cell_type": "markdown",
   "id": "f90f0614-a766-4cb8-ad7f-cb4c321c540d",
   "metadata": {},
   "source": [
    "# Or\n",
    "\n",
    "[Or](or.ipynb) $\\bigvee$ is a [logical_operator](logical_operator.ipynb) that takes $n\\in \\mathbb{N}$ [propositions](proposition.ipynb) and returns True when one or more of the propositions is True."
   ]
  }
 ],
 "metadata": {
  "kernelspec": {
   "display_name": "Python 3 (ipykernel)",
   "language": "python",
   "name": "python3"
  },
  "language_info": {
   "codemirror_mode": {
    "name": "ipython",
    "version": 3
   },
   "file_extension": ".py",
   "mimetype": "text/x-python",
   "name": "python",
   "nbconvert_exporter": "python",
   "pygments_lexer": "ipython3",
   "version": "3.9.7"
  }
 },
 "nbformat": 4,
 "nbformat_minor": 5
}
