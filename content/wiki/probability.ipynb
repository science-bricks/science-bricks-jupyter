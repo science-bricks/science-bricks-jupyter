{
 "cells": [
  {
   "cell_type": "markdown",
   "id": "2c5eb412-f9bc-4a08-90e7-2bdc18b6db6c",
   "metadata": {},
   "source": [
    "# Probability\n",
    "\n",
    "A value between 0 and 1 that represents the likelihood of an event to occur."
   ]
  }
 ],
 "metadata": {
  "kernelspec": {
   "display_name": "Python 3 (ipykernel)",
   "language": "python",
   "name": "python3"
  },
  "language_info": {
   "codemirror_mode": {
    "name": "ipython",
    "version": 3
   },
   "file_extension": ".py",
   "mimetype": "text/x-python",
   "name": "python",
   "nbconvert_exporter": "python",
   "pygments_lexer": "ipython3",
   "version": "3.9.7"
  }
 },
 "nbformat": 4,
 "nbformat_minor": 5
}
