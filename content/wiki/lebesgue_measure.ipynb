{
 "cells": [
  {
   "cell_type": "markdown",
   "id": "39252e78-73ce-4732-be7c-fefaa0d48674",
   "metadata": {},
   "source": [
    "# Lebesgue measure\n",
    "Is a special construction of a measure in the [borel sigma algebra](borel_sigma_algebra.ipynb) induced by the standard topology on $M = \\mathbb{R}^d$ $\\sigma = \\sigma(\\theta_{\\mathbb{R}^d})$ defined as\n",
    "\n",
    "$$\n",
    "\\mu_L : \\sigma(\\theta) \\to \\mathbb{R}_{\\geq 0}\n",
    "$$\n",
    "\n",
    "$$\n",
    "\\lambda \\left( [a_1, b_1) \\times \\ldots \\times [a_d, b_d) \\right) =(b_1-a_1)\\cdot \\ldots \\cdot (b_d-a_d) \n",
    "$$"
   ]
  }
 ],
 "metadata": {
  "kernelspec": {
   "display_name": "Python 3 (ipykernel)",
   "language": "python",
   "name": "python3"
  },
  "language_info": {
   "codemirror_mode": {
    "name": "ipython",
    "version": 3
   },
   "file_extension": ".py",
   "mimetype": "text/x-python",
   "name": "python",
   "nbconvert_exporter": "python",
   "pygments_lexer": "ipython3",
   "version": "3.9.7"
  }
 },
 "nbformat": 4,
 "nbformat_minor": 5
}
