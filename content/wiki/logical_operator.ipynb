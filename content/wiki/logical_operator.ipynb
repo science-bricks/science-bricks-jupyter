{
 "cells": [
  {
   "cell_type": "markdown",
   "id": "460a4eca-c12c-407d-a0e1-5d2a53101e08",
   "metadata": {},
   "source": [
    "# Logical operator\n",
    "\n",
    "A [logical operator](logical_operator.ipynb) is an [object](object.ipynb) that takes one or more [propositions](proposition.ipynb) and returns another proposition. Any high-dimensional operator can be built from [unary](unary_logical_operator.ipynb) and [binary](binary_logical_operator.ipynb) logical operators.\n",
    "\n",
    "There are four unary logical operators: \n",
    "- [not](not.ipynb) $\\neg p$\n",
    "- [identity](identity.ipynb) $id(p)$ \n",
    "- [tautology](tautology.ipynb) $\\top p$\n",
    "- [contradiction](contradiction.ipynb) $\\bot p$\n"
   ]
  }
 ],
 "metadata": {
  "kernelspec": {
   "display_name": "Python 3 (ipykernel)",
   "language": "python",
   "name": "python3"
  },
  "language_info": {
   "codemirror_mode": {
    "name": "ipython",
    "version": 3
   },
   "file_extension": ".py",
   "mimetype": "text/x-python",
   "name": "python",
   "nbconvert_exporter": "python",
   "pygments_lexer": "ipython3",
   "version": "3.9.7"
  }
 },
 "nbformat": 4,
 "nbformat_minor": 5
}
