{
 "cells": [
  {
   "cell_type": "markdown",
   "id": "c2fbcebe-ce72-4811-b0c3-05ecc7cdd8cc",
   "metadata": {
    "tags": []
   },
   "source": [
    "# Probability Measure\n",
    "\n",
    "A [probability measure](probability_measure.ipynb) is a [measure](measure.ipynb) $\\mu : \\sigma \\to \\mathbb{R}_{\\geq 0}$ on a [measurable space](measurable_space.ipynb) $(M,\\sigma)$ such that $\\mu(M) = 1$."
   ]
  }
 ],
 "metadata": {
  "kernelspec": {
   "display_name": "Python 3 (ipykernel)",
   "language": "python",
   "name": "python3"
  },
  "language_info": {
   "codemirror_mode": {
    "name": "ipython",
    "version": 3
   },
   "file_extension": ".py",
   "mimetype": "text/x-python",
   "name": "python",
   "nbconvert_exporter": "python",
   "pygments_lexer": "ipython3",
   "version": "3.9.7"
  }
 },
 "nbformat": 4,
 "nbformat_minor": 5
}
