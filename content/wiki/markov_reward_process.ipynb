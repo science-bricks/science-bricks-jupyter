{
 "cells": [
  {
   "cell_type": "markdown",
   "id": "1bb35c26-e162-4e34-a418-48a26e2ded54",
   "metadata": {},
   "source": [
    "# Markov Reward Process\n",
    "A [Markov reward process](markov_reward_process.ipynb) is a [Markov process](markov_process) equipped with a reward map $R_s = \\mathbb{E}[R_{t+1} | S_t = s]$ that evaluates how ''good'' is an state."
   ]
  }
 ],
 "metadata": {
  "kernelspec": {
   "display_name": "Python 3 (ipykernel)",
   "language": "python",
   "name": "python3"
  },
  "language_info": {
   "codemirror_mode": {
    "name": "ipython",
    "version": 3
   },
   "file_extension": ".py",
   "mimetype": "text/x-python",
   "name": "python",
   "nbconvert_exporter": "python",
   "pygments_lexer": "ipython3",
   "version": "3.9.7"
  }
 },
 "nbformat": 4,
 "nbformat_minor": 5
}
