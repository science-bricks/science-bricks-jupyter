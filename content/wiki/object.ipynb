{
 "cells": [
  {
   "cell_type": "markdown",
   "id": "3583d1fc-453d-45fe-a346-b4644ea82407",
   "metadata": {},
   "source": [
    "# Object\n",
    "\n",
    "An [object](ipynb) is an [object](object.ipynb)."
   ]
  }
 ],
 "metadata": {
  "kernelspec": {
   "display_name": "Python 3 (ipykernel)",
   "language": "python",
   "name": "python3"
  },
  "language_info": {
   "codemirror_mode": {
    "name": "ipython",
    "version": 3
   },
   "file_extension": ".py",
   "mimetype": "text/x-python",
   "name": "python",
   "nbconvert_exporter": "python",
   "pygments_lexer": "ipython3",
   "version": "3.9.7"
  }
 },
 "nbformat": 4,
 "nbformat_minor": 5
}
