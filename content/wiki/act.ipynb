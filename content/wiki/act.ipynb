{
 "cells": [
  {
   "cell_type": "markdown",
   "id": "2ac0baa9-412e-42a8-8ed9-25761728e1ac",
   "metadata": {},
   "source": [
    "# Act\n",
    "\n",
    "For an [Intelligent Agent](intelligent_agent.ipynb), to [act](act.ipynb) is to select an output $a_t \\in A$.\n",
    "\n",
    "- The set of all possible actions is called the **Action Space** $A$.\n",
    "\n",
    "- Each **action** $a_t$ makes the agent **transition** from **state** $s_t$ to the state $s_{t+1}$ through its **state-transition probability distribution** or its **stochastic dynamics**:\n",
    "\n",
    "$$\n",
    "s_{t+1} \\sim \\mathbb{P}(s_{t+1} | s_t,a_t) \\iff s_{t+1} = f_t(s_t, a_t, u_t) \\quad u_t \\sim \\mathbb{P}_u\n",
    "$$\n",
    "\n",
    "<div align=\"center\">\n",
    "<img src=\"./img/rl_car.png\" width=\"425\" height=\"350\">\n",
    "</div>\n",
    "\n",
    "<div align=\"center\">\n",
    "Super-Human Performance in Gran Turismo Sport Using Deep Reinforcement Learning [<a href=\"https://arxiv.org/pdf/2008.07971.pdf\">Fuchs et. al., 2021</a>]\n",
    "</div>"
   ]
  }
 ],
 "metadata": {
  "kernelspec": {
   "display_name": "Python 3 (ipykernel)",
   "language": "python",
   "name": "python3"
  },
  "language_info": {
   "codemirror_mode": {
    "name": "ipython",
    "version": 3
   },
   "file_extension": ".py",
   "mimetype": "text/x-python",
   "name": "python",
   "nbconvert_exporter": "python",
   "pygments_lexer": "ipython3",
   "version": "3.10.7"
  }
 },
 "nbformat": 4,
 "nbformat_minor": 5
}
