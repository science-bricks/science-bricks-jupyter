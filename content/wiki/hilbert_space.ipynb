{
 "cells": [
  {
   "cell_type": "markdown",
   "id": "0ef55e0e-45a1-4bef-a482-ee0c42228b6a",
   "metadata": {},
   "source": [
    "# Hilbert Space\n",
    "\n",
    "A [Hilbert space](hilbert_space.ipynb) $(\\mathcal{H}, +, \\cdot, <\\cdot, \\cdot>)$ is an [inner product space](inner_product_space.ipynb) $(\\mathcal{H}, +, \\cdot, <\\cdot, \\cdot>)$ such that the [norm](norm.ipynb) $\\|\\cdot\\|$ induced by the [inner product](inner_product.ipynb) as \n",
    "\n",
    "$$\n",
    "\\|\\psi\\| = \\sqrt{<\\psi,\\psi>}\\ , \\quad \\psi \\in \\mathcal{H}\n",
    "$$\n",
    "\n",
    "turns $(H,\\|\\cdot \\|)$ into a [complete metric space](complete_metric_space.ipynb)."
   ]
  }
 ],
 "metadata": {
  "kernelspec": {
   "display_name": "Python 3 (ipykernel)",
   "language": "python",
   "name": "python3"
  },
  "language_info": {
   "codemirror_mode": {
    "name": "ipython",
    "version": 3
   },
   "file_extension": ".py",
   "mimetype": "text/x-python",
   "name": "python",
   "nbconvert_exporter": "python",
   "pygments_lexer": "ipython3",
   "version": "3.9.7"
  }
 },
 "nbformat": 4,
 "nbformat_minor": 5
}
