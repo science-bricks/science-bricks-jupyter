{
 "cells": [
  {
   "cell_type": "markdown",
   "id": "8998a644-7fc0-4b9f-816a-e132cf8c03b7",
   "metadata": {},
   "source": [
    "# Measurable map\n",
    "\n",
    "A [measurable map](measurable_map.ipynb) is a [map](map.ipynb) $f: M \\to N$ between two [measurable spaces](measurable_space.ipynb) $(M, \\sigma_M)$ and $(N,\\sigma_N)$ such that\n",
    "\n",
    "$$\n",
    "\\forall A \\in \\sigma_N : preim_f(A) \\in \\sigma_M\n",
    "$$"
   ]
  }
 ],
 "metadata": {
  "kernelspec": {
   "display_name": "Python 3 (ipykernel)",
   "language": "python",
   "name": "python3"
  },
  "language_info": {
   "codemirror_mode": {
    "name": "ipython",
    "version": 3
   },
   "file_extension": ".py",
   "mimetype": "text/x-python",
   "name": "python",
   "nbconvert_exporter": "python",
   "pygments_lexer": "ipython3",
   "version": "3.9.7"
  }
 },
 "nbformat": 4,
 "nbformat_minor": 5
}
