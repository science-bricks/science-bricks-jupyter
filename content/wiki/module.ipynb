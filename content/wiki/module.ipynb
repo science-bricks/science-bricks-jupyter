{
 "cells": [
  {
   "cell_type": "markdown",
   "id": "946cae6f-4939-4b18-a639-ee805a7272a1",
   "metadata": {},
   "source": [
    "# Module\n",
    "A [module](module.ipynb) $(M, \\oplus, \\odot )$ over a [ring](ring.ipynb) $(R, +, \\cdot)$ is a [set](set.ipynb) $M$ equipped with the [maps](map.ipynb):\n",
    "\n",
    "$$\n",
    "\\oplus : M \\times M \\to M\n",
    "$$\n",
    "\n",
    "$$\n",
    "  \\begin{array}{crcl}\n",
    "    \\odot : & R \\times M & \\to & M\\\\\n",
    "            & r \\odot m  & \\mapsto  & r \\cdot m\n",
    "  \\end{array}\n",
    "$$\n",
    "\n",
    "that satisfies $C^{\\oplus}A^{\\oplus}N^{\\oplus}I^{\\oplus}$ and $AD^{\\odot}_+D^\\odot_{\\oplus}U^{\\odot}$. $U$ stands for unitary.\n",
    "\n"
   ]
  }
 ],
 "metadata": {
  "kernelspec": {
   "display_name": "Python 3 (ipykernel)",
   "language": "python",
   "name": "python3"
  },
  "language_info": {
   "codemirror_mode": {
    "name": "ipython",
    "version": 3
   },
   "file_extension": ".py",
   "mimetype": "text/x-python",
   "name": "python",
   "nbconvert_exporter": "python",
   "pygments_lexer": "ipython3",
   "version": "3.9.7"
  }
 },
 "nbformat": 4,
 "nbformat_minor": 5
}
