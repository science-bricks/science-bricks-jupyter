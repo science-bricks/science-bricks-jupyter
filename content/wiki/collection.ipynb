{
 "cells": [
  {
   "cell_type": "markdown",
   "id": "64ab40b7-0ba2-43b8-8732-efffaf4fcc32",
   "metadata": {},
   "source": [
    "# Collection\n",
    "\n",
    "A [collection](collection.ipynb) is a [subset](subset.ipynb) of the [power set](power_set.ipynb)."
   ]
  }
 ],
 "metadata": {
  "kernelspec": {
   "display_name": "Python 3 (ipykernel)",
   "language": "python",
   "name": "python3"
  },
  "language_info": {
   "codemirror_mode": {
    "name": "ipython",
    "version": 3
   },
   "file_extension": ".py",
   "mimetype": "text/x-python",
   "name": "python",
   "nbconvert_exporter": "python",
   "pygments_lexer": "ipython3",
   "version": "3.9.7"
  }
 },
 "nbformat": 4,
 "nbformat_minor": 5
}
