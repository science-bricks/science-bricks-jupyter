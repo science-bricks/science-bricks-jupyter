{
 "cells": [
  {
   "cell_type": "markdown",
   "id": "a309cb41-eab2-4869-920f-cbcb28e7b6a6",
   "metadata": {},
   "source": [
    "# Associative ring\n",
    "\n",
    "An [associative ring](associative_ring.ipynb) is a [ring](ring.ipynb) $(S, +, \\cdot )$ that, $\\forall a,b,c \\in S$, satisfies:\n",
    "\n",
    "- $(\\cdot)$ Associativity: \n",
    "$$\n",
    "(a \\cdot b) \\cdot c= a \\cdot (b \\cdot c)\n",
    "$$"
   ]
  }
 ],
 "metadata": {
  "kernelspec": {
   "display_name": "Python 3 (ipykernel)",
   "language": "python",
   "name": "python3"
  },
  "language_info": {
   "codemirror_mode": {
    "name": "ipython",
    "version": 3
   },
   "file_extension": ".py",
   "mimetype": "text/x-python",
   "name": "python",
   "nbconvert_exporter": "python",
   "pygments_lexer": "ipython3",
   "version": "3.9.7"
  }
 },
 "nbformat": 4,
 "nbformat_minor": 5
}
