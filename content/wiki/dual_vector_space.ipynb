{
 "cells": [
  {
   "cell_type": "markdown",
   "id": "5bb3650f-f3dc-4131-90f8-6305269312a5",
   "metadata": {},
   "source": [
    "# Dual Vector Space\n",
    "\n",
    "The [dual vector space](dual_vector_space.ipynb) $V^*$ of a [vector space](vector_space.ipynb) $V$ is the [set](set.ipynb) of all [linear maps](linear_map.ipynb) that take a [vector](vector.ipynb) and returns a [scalar](scalar.ipynb). Mathematically:\n",
    "$$\n",
    "V^* := \\mathcal{L}(V,K)\n",
    "$$"
   ]
  }
 ],
 "metadata": {
  "kernelspec": {
   "display_name": "Python 3 (ipykernel)",
   "language": "python",
   "name": "python3"
  },
  "language_info": {
   "codemirror_mode": {
    "name": "ipython",
    "version": 3
   },
   "file_extension": ".py",
   "mimetype": "text/x-python",
   "name": "python",
   "nbconvert_exporter": "python",
   "pygments_lexer": "ipython3",
   "version": "3.9.7"
  }
 },
 "nbformat": 4,
 "nbformat_minor": 5
}
