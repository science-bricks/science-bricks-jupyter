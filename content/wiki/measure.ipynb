{
 "cells": [
  {
   "cell_type": "markdown",
   "id": "fc4f1f84-2e29-451f-8770-d764a08c356b",
   "metadata": {},
   "source": [
    "# Measure\n",
    "\n",
    "A [measure](measure.ipynb) $\\mu$ is a [map](map.ipynb) $\\mu : \\sigma \\to \\mathbb{R}_{\\geq 0}$ that assigns, to each [measurable subset](measurable_subset.ipynb) of $\\sigma$, a non-negative real value, satisfying:\n",
    "\n",
    "- $\\mu(\\emptyset) = 0$\n",
    "- For a pairwise disjoint sequence in $\\sigma$, the measure of its union is the sum of each idividual measure. Mathematically:\n",
    "$$\n",
    "\\forall \\{ A_n \\}_{n \\in \\mathbb{N}} \\in \\sigma : \\bigcap_{n} A_n = \\emptyset : \\mu \\left(\\bigcup_{n} A_n \\right) = \\sum_n A_n\n",
    "$$\n",
    "\n",
    "### Properties:\n",
    "\n",
    "- Monotony: \n",
    "$$\n",
    "A_1 \\subseteq A_2 \\Rightarrow \\mu(A_1) \\leq \\mu(A_2)\n",
    "$$\n",
    "- Sub-additivity: \n",
    "$$\n",
    "\\forall \\{ A_n \\}_{n \\in \\mathbb{N}} \\in \\sigma : \\mu \\left(\\bigcup_{n} A_n \\right) \\leq \\sum_n \\mu(A_n)\n",
    "$$\n",
    "\n",
    "- Continuity from below: For an increasing exaustive sequence $A_1 \\subseteq \\ldots \\subseteq A_n$ with $\\bigcup_n A_n = A$ we have\n",
    "$$\n",
    "\\lim_{n\\to \\infty} \\mu(A_n) = \\mu(A)\n",
    "$$\n",
    "\n",
    "- Continuity from above: For a decreasing sequence enveloping $A_1 \\supseteq \\ldots \\supseteq A_n$, $A = \\bigcap_n A_n$ and $\\mu(A_1) < \\infty$ then,\n",
    "$$\n",
    "\\lim_{n\\to \\infty} \\mu(A_n) = \\mu(A)\n",
    "$$"
   ]
  },
  {
   "cell_type": "markdown",
   "id": "2df61bf6-275c-497b-9117-226b2d0ee947",
   "metadata": {},
   "source": [
    "A [measure](measure.ipynb) $\\mu : \\sigma \\to \\mathbb{R}_{\\geq 0}$ on a [measurable space](measurable_space.ipynb) $(M,\\sigma)$ is a map that assigns, to each measurable subset, a non-negative real value."
   ]
  }
 ],
 "metadata": {
  "kernelspec": {
   "display_name": "Python 3 (ipykernel)",
   "language": "python",
   "name": "python3"
  },
  "language_info": {
   "codemirror_mode": {
    "name": "ipython",
    "version": 3
   },
   "file_extension": ".py",
   "mimetype": "text/x-python",
   "name": "python",
   "nbconvert_exporter": "python",
   "pygments_lexer": "ipython3",
   "version": "3.10.6"
  }
 },
 "nbformat": 4,
 "nbformat_minor": 5
}
