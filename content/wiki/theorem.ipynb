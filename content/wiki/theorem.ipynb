{
 "cells": [
  {
   "cell_type": "markdown",
   "id": "d4581d3c-a0a2-451c-a8b6-e2831d3ef718",
   "metadata": {},
   "source": [
    "# Theorem\n",
    "\n",
    "A [theorem](theorem.ipynb) is a [proposition](proposition.ipynb) that is [equivalent](equivalence.ipynb) to the [set](set.ipynb) of [axioms](axiom.ipynb)."
   ]
  }
 ],
 "metadata": {
  "kernelspec": {
   "display_name": "Python 3 (ipykernel)",
   "language": "python",
   "name": "python3"
  },
  "language_info": {
   "codemirror_mode": {
    "name": "ipython",
    "version": 3
   },
   "file_extension": ".py",
   "mimetype": "text/x-python",
   "name": "python",
   "nbconvert_exporter": "python",
   "pygments_lexer": "ipython3",
   "version": "3.9.13"
  }
 },
 "nbformat": 4,
 "nbformat_minor": 5
}
