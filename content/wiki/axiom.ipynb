{
 "cells": [
  {
   "cell_type": "markdown",
   "id": "286c715c-db3a-48f3-af8c-601a962650b9",
   "metadata": {},
   "source": [
    "# Axiom\n",
    "\n",
    "An [axiom](axiom.ipynb) is a [proposition](proposition.ipynb) that is assumed to be True."
   ]
  }
 ],
 "metadata": {
  "kernelspec": {
   "display_name": "Python 3 (ipykernel)",
   "language": "python",
   "name": "python3"
  },
  "language_info": {
   "codemirror_mode": {
    "name": "ipython",
    "version": 3
   },
   "file_extension": ".py",
   "mimetype": "text/x-python",
   "name": "python",
   "nbconvert_exporter": "python",
   "pygments_lexer": "ipython3",
   "version": "3.10.7"
  }
 },
 "nbformat": 4,
 "nbformat_minor": 5
}
