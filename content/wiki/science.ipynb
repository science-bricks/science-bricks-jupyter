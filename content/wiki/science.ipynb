{
 "cells": [
  {
   "cell_type": "markdown",
   "id": "1c4cf6b1-701e-42e3-87ad-423607be404f",
   "metadata": {},
   "source": [
    "# Science\n",
    "\n",
    "[Science](science.ipynb) is the practice of learning and solving problems by applying the [scientific method](scientific_method.ipynb)."
   ]
  }
 ],
 "metadata": {
  "kernelspec": {
   "display_name": "Python 3 (ipykernel)",
   "language": "python",
   "name": "python3"
  },
  "language_info": {
   "codemirror_mode": {
    "name": "ipython",
    "version": 3
   },
   "file_extension": ".py",
   "mimetype": "text/x-python",
   "name": "python",
   "nbconvert_exporter": "python",
   "pygments_lexer": "ipython3",
   "version": "3.10.6"
  }
 },
 "nbformat": 4,
 "nbformat_minor": 5
}
