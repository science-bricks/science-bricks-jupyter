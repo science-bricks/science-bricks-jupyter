{
 "cells": [
  {
   "cell_type": "markdown",
   "id": "c57d657c-d3e6-4bd9-8804-49f5da05f75f",
   "metadata": {},
   "source": [
    "# Unary logical operator\n",
    "\n",
    "An unary logical operator is an [logical_operator](logical_operator.ipynb) that only takes one [proposition](proposition.ipynb) $p$ as input and returns another proposition. There are four unary logical operators: \n",
    "- [not](not.ipynb) $\\neg p$\n",
    "- [identity](identity.ipynb) $id(p)$ \n",
    "- [tautology](tautology.ipynb) $\\top p$\n",
    "- [contradiction](contradiction.ipynb) $\\bot p$\n",
    "\n",
    "They are defined in the following truth table:"
   ]
  },
  {
   "cell_type": "code",
   "execution_count": 28,
   "id": "08754267-82be-4e91-aa3a-d287cdfc553f",
   "metadata": {
    "tags": []
   },
   "outputs": [
    {
     "data": {
      "text/html": [
       "<div>\n",
       "<style scoped>\n",
       "    .dataframe tbody tr th:only-of-type {\n",
       "        vertical-align: middle;\n",
       "    }\n",
       "\n",
       "    .dataframe tbody tr th {\n",
       "        vertical-align: top;\n",
       "    }\n",
       "\n",
       "    .dataframe thead th {\n",
       "        text-align: right;\n",
       "    }\n",
       "</style>\n",
       "<table border=\"1\" class=\"dataframe\">\n",
       "  <thead>\n",
       "    <tr style=\"text-align: right;\">\n",
       "      <th></th>\n",
       "      <th>p</th>\n",
       "      <th>identity(p)</th>\n",
       "      <th>not(p)</th>\n",
       "      <th>tautology(p)</th>\n",
       "      <th>contradiction(p)</th>\n",
       "    </tr>\n",
       "  </thead>\n",
       "  <tbody>\n",
       "    <tr>\n",
       "      <th>0</th>\n",
       "      <td>True</td>\n",
       "      <td>True</td>\n",
       "      <td>False</td>\n",
       "      <td>True</td>\n",
       "      <td>False</td>\n",
       "    </tr>\n",
       "    <tr>\n",
       "      <th>1</th>\n",
       "      <td>False</td>\n",
       "      <td>False</td>\n",
       "      <td>False</td>\n",
       "      <td>True</td>\n",
       "      <td>False</td>\n",
       "    </tr>\n",
       "  </tbody>\n",
       "</table>\n",
       "</div>"
      ],
      "text/plain": [
       "       p  identity(p)  not(p)  tautology(p)  contradiction(p)\n",
       "0   True         True   False          True             False\n",
       "1  False        False   False          True             False"
      ]
     },
     "execution_count": 28,
     "metadata": {},
     "output_type": "execute_result"
    }
   ],
   "source": [
    "import pandas as pd\n",
    "p = [True,False]\n",
    "data = {'p':p, 'identity(p)': p, 'not(p)': not p, 'tautology(p)': [True, True], 'contradiction(p)': [False, False]}\n",
    "data_frame = pd.DataFrame(data)\n",
    "data_frame"
   ]
  }
 ],
 "metadata": {
  "kernelspec": {
   "display_name": "Python 3 (ipykernel)",
   "language": "python",
   "name": "python3"
  },
  "language_info": {
   "codemirror_mode": {
    "name": "ipython",
    "version": 3
   },
   "file_extension": ".py",
   "mimetype": "text/x-python",
   "name": "python",
   "nbconvert_exporter": "python",
   "pygments_lexer": "ipython3",
   "version": "3.9.7"
  }
 },
 "nbformat": 4,
 "nbformat_minor": 5
}
