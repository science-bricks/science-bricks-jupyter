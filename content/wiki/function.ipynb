{
 "cells": [
  {
   "cell_type": "markdown",
   "id": "cfb2f141-6cdc-49e4-b5bd-b9eae592c130",
   "metadata": {},
   "source": [
    "# Function\n",
    "A [function](function.ipynb) is a [map](map.ipynb)."
   ]
  }
 ],
 "metadata": {
  "kernelspec": {
   "display_name": "Python 3 (ipykernel)",
   "language": "python",
   "name": "python3"
  },
  "language_info": {
   "codemirror_mode": {
    "name": "ipython",
    "version": 3
   },
   "file_extension": ".py",
   "mimetype": "text/x-python",
   "name": "python",
   "nbconvert_exporter": "python",
   "pygments_lexer": "ipython3",
   "version": "3.9.7"
  }
 },
 "nbformat": 4,
 "nbformat_minor": 5
}
