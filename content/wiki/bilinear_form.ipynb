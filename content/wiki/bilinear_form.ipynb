{
 "cells": [
  {
   "cell_type": "markdown",
   "id": "cfecee57-775c-463d-88b7-2e28dca492da",
   "metadata": {},
   "source": [
    "# Bilinear Form\n",
    "A [bilinear form](bilinear_form.ipynb) on a [vector space](vector_space.ipynb) $V$ over a [field](field.ipynb) $K$ is a [map](map.ipynb) $B: VxV \\to K$ that satisfies:\n",
    "\n",
    "- $B(u +\\lambda v, w) = B(u,w) + \\lambda B(v,w)$\n",
    "- $B(u, v + \\lambda w) = B(u,v) + \\lambda B(u,w)$"
   ]
  }
 ],
 "metadata": {
  "kernelspec": {
   "display_name": "Python 3 (ipykernel)",
   "language": "python",
   "name": "python3"
  },
  "language_info": {
   "codemirror_mode": {
    "name": "ipython",
    "version": 3
   },
   "file_extension": ".py",
   "mimetype": "text/x-python",
   "name": "python",
   "nbconvert_exporter": "python",
   "pygments_lexer": "ipython3",
   "version": "3.9.7"
  }
 },
 "nbformat": 4,
 "nbformat_minor": 5
}
