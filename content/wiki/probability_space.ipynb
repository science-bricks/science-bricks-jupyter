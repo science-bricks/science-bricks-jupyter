{
 "cells": [
  {
   "cell_type": "markdown",
   "id": "9ecef8d5-0673-4776-9464-41f58d254b8b",
   "metadata": {},
   "source": [
    "# Probability Space\n",
    "\n",
    "A [probability space](probabiliy_space.ipynb) is a [measure space](measure_space.ipynb) $(M,\\sigma,\\mu)$, where $\\mu(M)=1$.\n",
    "## Nomenclature\n",
    "\n",
    "- $M$ is usually denoted as $\\Omega$, and it is called [sample space](sample_space.ipynb).\n",
    "- $\\sigma$ is usually denoted as $E$, and called [event space](event_space.ipynb)\n",
    "- The probability measure $\\mu$ is usually denoted as $P$, and called Probability Law."
   ]
  }
 ],
 "metadata": {
  "kernelspec": {
   "display_name": "Python 3 (ipykernel)",
   "language": "python",
   "name": "python3"
  },
  "language_info": {
   "codemirror_mode": {
    "name": "ipython",
    "version": 3
   },
   "file_extension": ".py",
   "mimetype": "text/x-python",
   "name": "python",
   "nbconvert_exporter": "python",
   "pygments_lexer": "ipython3",
   "version": "3.9.7"
  }
 },
 "nbformat": 4,
 "nbformat_minor": 5
}
