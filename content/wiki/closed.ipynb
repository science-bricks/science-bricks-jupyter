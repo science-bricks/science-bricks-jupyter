{
 "cells": [
  {
   "cell_type": "markdown",
   "id": "f31047ee-150f-442c-a592-877a62513faa",
   "metadata": {},
   "source": [
    "# Closed\n",
    "\n",
    "A given [set](set.ipynb) S is [closed](closed.ipynb) under a [map](map.ipynb) $\\cdot$ if\n",
    "$$\n",
    "\\forall a, b \\in S : a \\cdot b \\in S\n",
    "$$\n",
    "\n",
    "of the larger set if performing that operation on members of the subset always produces a member of that subset. For example, the natural numbers are closed under addition, but not under subtraction: 1 − 2 is not a natural number, although both 1 and 2 are.\n",
    "\n"
   ]
  }
 ],
 "metadata": {
  "kernelspec": {
   "display_name": "Python 3 (ipykernel)",
   "language": "python",
   "name": "python3"
  },
  "language_info": {
   "codemirror_mode": {
    "name": "ipython",
    "version": 3
   },
   "file_extension": ".py",
   "mimetype": "text/x-python",
   "name": "python",
   "nbconvert_exporter": "python",
   "pygments_lexer": "ipython3",
   "version": "3.10.6"
  }
 },
 "nbformat": 4,
 "nbformat_minor": 5
}
