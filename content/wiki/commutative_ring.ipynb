{
 "cells": [
  {
   "cell_type": "markdown",
   "id": "b1a35d32-7c65-4a1f-862d-c7cc8c65b548",
   "metadata": {},
   "source": [
    "# Commutative ring\n",
    "\n",
    "A [commutative ring](commutative_ring.ipynb) is a [ring](ring.ipynb) $(S, +, \\cdot )$ that, $\\forall a,b \\in S$, satisfies:\n",
    "\n",
    "- $(\\cdot)$ Commutativity: \n",
    "$$\n",
    "a \\cdot b = b \\cdot a\n",
    "$$"
   ]
  }
 ],
 "metadata": {
  "kernelspec": {
   "display_name": "Python 3 (ipykernel)",
   "language": "python",
   "name": "python3"
  },
  "language_info": {
   "codemirror_mode": {
    "name": "ipython",
    "version": 3
   },
   "file_extension": ".py",
   "mimetype": "text/x-python",
   "name": "python",
   "nbconvert_exporter": "python",
   "pygments_lexer": "ipython3",
   "version": "3.9.7"
  }
 },
 "nbformat": 4,
 "nbformat_minor": 5
}
