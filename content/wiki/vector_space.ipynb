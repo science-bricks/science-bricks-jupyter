{
 "cells": [
  {
   "cell_type": "markdown",
   "id": "e8a0549b-fa9a-478c-9d3a-c4fea07d09d7",
   "metadata": {},
   "source": [
    "# Vector Space\n",
    "\n",
    "A [vector space](vector_space.ipynb) $(V, \\oplus, \\odot )$ over a [field](field.ipynb) $(K,+,\\cdot)$ is a [set](set.ipynb) $V$ equipped with the [maps](map.ipynb)\n",
    "\n",
    "$$\n",
    "\\oplus : V \\times V \\to V\n",
    "$$\n",
    "\n",
    "$$\n",
    "  \\begin{array}{crcl}\n",
    "    \\odot : & K \\times V & \\to & V\\\\\n",
    "            & k \\odot v  & \\mapsto  & k \\cdot v\n",
    "  \\end{array}\n",
    "$$\n",
    "\n",
    "that satisfies $C^{\\oplus}A^{\\oplus}N^{\\oplus}I^{\\oplus}$ and $AD^{\\odot}_+D^\\odot_{\\oplus}U^{\\odot}$. A [module](module.ipynb) is a vector space structure over a ring, i.e. non-commutative $\\cdot$.\n",
    "\n"
   ]
  }
 ],
 "metadata": {
  "kernelspec": {
   "display_name": "Python 3 (ipykernel)",
   "language": "python",
   "name": "python3"
  },
  "language_info": {
   "codemirror_mode": {
    "name": "ipython",
    "version": 3
   },
   "file_extension": ".py",
   "mimetype": "text/x-python",
   "name": "python",
   "nbconvert_exporter": "python",
   "pygments_lexer": "ipython3",
   "version": "3.9.7"
  }
 },
 "nbformat": 4,
 "nbformat_minor": 5
}
