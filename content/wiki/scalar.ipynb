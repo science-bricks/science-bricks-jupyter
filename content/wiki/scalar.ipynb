{
 "cells": [
  {
   "cell_type": "markdown",
   "id": "7c1cf77b-a342-4292-a604-c94c52946d22",
   "metadata": {},
   "source": [
    "# Scalar\n",
    "\n",
    "A [scalar](scalar.ipynb) is an [element](element.ipynb) of a [field](field.ipynb)."
   ]
  }
 ],
 "metadata": {
  "kernelspec": {
   "display_name": "Python 3 (ipykernel)",
   "language": "python",
   "name": "python3"
  },
  "language_info": {
   "codemirror_mode": {
    "name": "ipython",
    "version": 3
   },
   "file_extension": ".py",
   "mimetype": "text/x-python",
   "name": "python",
   "nbconvert_exporter": "python",
   "pygments_lexer": "ipython3",
   "version": "3.9.7"
  }
 },
 "nbformat": 4,
 "nbformat_minor": 5
}
