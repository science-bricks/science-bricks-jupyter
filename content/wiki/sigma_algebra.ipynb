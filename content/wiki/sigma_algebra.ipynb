{
 "cells": [
  {
   "cell_type": "markdown",
   "id": "5ae9c1e6-abbe-4c22-b8b7-3b8643340f5a",
   "metadata": {},
   "source": [
    "# Sigma algebra\n",
    "\n",
    "Let $M$ be a non-empty [set](set.ipynb). Then, a [collection](collection.ipynb) $\\sigma$ is called a [$\\sigma$-algebra](sigma_algebra.ipynb) for $M$ if:\n",
    "- The entire set is part of the collection.  Mathematically: \n",
    "$$\n",
    "M \\in \\sigma\n",
    "$$\n",
    "- If a set is part of the collection, its [complement](complement_set.ipynb) must be also part of the collection. Mathematically:\n",
    "$$\n",
    "A\\in \\sigma \\Rightarrow M \\setminus A \\in \\sigma\n",
    "$$\n",
    "- For any [sequence](sequence.ipynb) in $\\sigma$, its [union](union.ipynb) is also in $\\sigma$. Mathematically:\n",
    "\n",
    "$$\n",
    "\\forall \\{ A_n \\}_{n \\in \\mathbb{N}} \\in \\sigma : \\Rightarrow \\bigcup_{n} A_n \\in \\sigma\n",
    "$$"
   ]
  }
 ],
 "metadata": {
  "kernelspec": {
   "display_name": "Python 3 (ipykernel)",
   "language": "python",
   "name": "python3"
  },
  "language_info": {
   "codemirror_mode": {
    "name": "ipython",
    "version": 3
   },
   "file_extension": ".py",
   "mimetype": "text/x-python",
   "name": "python",
   "nbconvert_exporter": "python",
   "pygments_lexer": "ipython3",
   "version": "3.10.7"
  }
 },
 "nbformat": 4,
 "nbformat_minor": 5
}
