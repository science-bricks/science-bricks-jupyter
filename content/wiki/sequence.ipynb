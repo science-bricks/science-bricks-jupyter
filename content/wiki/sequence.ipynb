{
 "cells": [
  {
   "cell_type": "markdown",
   "id": "0ae0ab09-b0ba-400a-8318-0703069ec5e3",
   "metadata": {},
   "source": [
    "# Sequence\n",
    "\n",
    "A [sequence](sequence.ipynb) is a countable [collection](collection.ipynb)."
   ]
  }
 ],
 "metadata": {
  "kernelspec": {
   "display_name": "Python 3 (ipykernel)",
   "language": "python",
   "name": "python3"
  },
  "language_info": {
   "codemirror_mode": {
    "name": "ipython",
    "version": 3
   },
   "file_extension": ".py",
   "mimetype": "text/x-python",
   "name": "python",
   "nbconvert_exporter": "python",
   "pygments_lexer": "ipython3",
   "version": "3.9.7"
  }
 },
 "nbformat": 4,
 "nbformat_minor": 5
}
