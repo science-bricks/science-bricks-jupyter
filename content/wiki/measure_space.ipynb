{
 "cells": [
  {
   "cell_type": "markdown",
   "id": "00e32776-3744-4ebe-8857-ae93fbf0a9b3",
   "metadata": {},
   "source": [
    "# Measure Space\n",
    "\n",
    "A [measure space](measure_space.ipynb) is a triple $(M,\\sigma,\\mu)$, where $(M,\\sigma)$ is a [measurable space](measurable_space.ipynb) and $\\mu$ is a [measure](measure.ipynb)."
   ]
  }
 ],
 "metadata": {
  "kernelspec": {
   "display_name": "Python 3 (ipykernel)",
   "language": "python",
   "name": "python3"
  },
  "language_info": {
   "codemirror_mode": {
    "name": "ipython",
    "version": 3
   },
   "file_extension": ".py",
   "mimetype": "text/x-python",
   "name": "python",
   "nbconvert_exporter": "python",
   "pygments_lexer": "ipython3",
   "version": "3.9.7"
  }
 },
 "nbformat": 4,
 "nbformat_minor": 5
}
