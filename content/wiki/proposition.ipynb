{
 "cells": [
  {
   "cell_type": "markdown",
   "id": "1693bb05-69fe-4cf6-941b-7cab74e104cb",
   "metadata": {},
   "source": [
    "# Proposition\n",
    "\n",
    "A [proposition](proposition.ipynb) $p$ is a statement that can only be True or False."
   ]
  }
 ],
 "metadata": {
  "kernelspec": {
   "display_name": "Python 3 (ipykernel)",
   "language": "python",
   "name": "python3"
  },
  "language_info": {
   "codemirror_mode": {
    "name": "ipython",
    "version": 3
   },
   "file_extension": ".py",
   "mimetype": "text/x-python",
   "name": "python",
   "nbconvert_exporter": "python",
   "pygments_lexer": "ipython3",
   "version": "3.9.7"
  }
 },
 "nbformat": 4,
 "nbformat_minor": 5
}
