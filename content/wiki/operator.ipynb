{
 "cells": [
  {
   "cell_type": "markdown",
   "id": "6292355b-f96d-4a24-8e46-fb38e2c92d45",
   "metadata": {},
   "source": [
    "# Operator\n",
    "\n",
    "An [operator](operator.ipynb) $A : V \\to W$ is a [map](map.ipynb) $A : V \\to W$ between two [banach spaces](banach_space.ipynb) $(V, +, \\cdot, \\|\\cdot \\|_V)$ and $(W, +, \\cdot, \\|\\cdot \\|_W)$.\n",
    "\n",
    "$$\n",
    "  \\begin{array}{crcl}\n",
    "    A : & V  & \\to & W\\\\\n",
    "        & f  & \\mapsto  & Af:=A(f)\n",
    "  \\end{array}\n",
    "$$"
   ]
  }
 ],
 "metadata": {
  "kernelspec": {
   "display_name": "Python 3 (ipykernel)",
   "language": "python",
   "name": "python3"
  },
  "language_info": {
   "codemirror_mode": {
    "name": "ipython",
    "version": 3
   },
   "file_extension": ".py",
   "mimetype": "text/x-python",
   "name": "python",
   "nbconvert_exporter": "python",
   "pygments_lexer": "ipython3",
   "version": "3.9.7"
  }
 },
 "nbformat": 4,
 "nbformat_minor": 5
}
