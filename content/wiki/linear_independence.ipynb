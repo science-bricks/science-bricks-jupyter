{
 "cells": [
  {
   "cell_type": "markdown",
   "id": "318e376e-55c8-4d1c-b962-dc278a6fb82b",
   "metadata": {},
   "source": [
    "# Linear independence\n",
    "\n",
    "A [set](set.ipynb) of [vectors](vector.ipynb) $S=\\{s_1, \\ldots, s_n\\}$ is linearly independent if\n",
    "\n",
    "$$\n",
    "\\sum_{i=1}^n\\lambda_i s_i = 0 \\Rightarrow \\lambda_i = 0, \\  \\forall i = 1, \\ldots, n\n",
    "$$"
   ]
  }
 ],
 "metadata": {
  "kernelspec": {
   "display_name": "Python 3 (ipykernel)",
   "language": "python",
   "name": "python3"
  },
  "language_info": {
   "codemirror_mode": {
    "name": "ipython",
    "version": 3
   },
   "file_extension": ".py",
   "mimetype": "text/x-python",
   "name": "python",
   "nbconvert_exporter": "python",
   "pygments_lexer": "ipython3",
   "version": "3.9.7"
  }
 },
 "nbformat": 4,
 "nbformat_minor": 5
}
