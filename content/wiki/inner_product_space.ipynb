{
 "cells": [
  {
   "cell_type": "markdown",
   "id": "85050ffe-b645-48dc-9871-35aa3d488ff8",
   "metadata": {},
   "source": [
    "# Inner Product Space\n",
    "\n",
    "An [inner product space](inner_product_space.ipynb) $(\\mathcal{H}, +, \\cdot, <\\cdot, \\cdot>)$ is a [vector space](vector_space.ipynb) $(\\mathcal{H}, +, \\cdot)$ equipped with an [inner product](inner_product.ipynb) $<\\cdot, \\cdot>$."
   ]
  }
 ],
 "metadata": {
  "kernelspec": {
   "display_name": "Python 3 (ipykernel)",
   "language": "python",
   "name": "python3"
  },
  "language_info": {
   "codemirror_mode": {
    "name": "ipython",
    "version": 3
   },
   "file_extension": ".py",
   "mimetype": "text/x-python",
   "name": "python",
   "nbconvert_exporter": "python",
   "pygments_lexer": "ipython3",
   "version": "3.9.7"
  }
 },
 "nbformat": 4,
 "nbformat_minor": 5
}
