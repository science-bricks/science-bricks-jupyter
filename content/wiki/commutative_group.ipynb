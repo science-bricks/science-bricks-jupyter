{
 "cells": [
  {
   "cell_type": "markdown",
   "id": "477be31c-ceca-4d8b-8b17-a8f8d0ba218f",
   "metadata": {},
   "source": [
    "# Commutative Group\n",
    "A [commutative group](commutative_group.ipynb) is a [group](group.ipynb) $(S,\\bullet)$ that, $\\forall a,b \\in S$ satisfies:\n",
    "\n",
    "- $(\\bullet)$ Commutative. \n",
    "$$\n",
    "a \\bullet b = b \\bullet a\n",
    "$$\n",
    "\n",
    "Mnemonic: CANI"
   ]
  }
 ],
 "metadata": {
  "kernelspec": {
   "display_name": "Python 3 (ipykernel)",
   "language": "python",
   "name": "python3"
  },
  "language_info": {
   "codemirror_mode": {
    "name": "ipython",
    "version": 3
   },
   "file_extension": ".py",
   "mimetype": "text/x-python",
   "name": "python",
   "nbconvert_exporter": "python",
   "pygments_lexer": "ipython3",
   "version": "3.9.7"
  }
 },
 "nbformat": 4,
 "nbformat_minor": 5
}
