{
 "cells": [
  {
   "cell_type": "markdown",
   "id": "5475712e-9333-4aeb-a2a3-c3775f8d030a",
   "metadata": {},
   "source": [
    "# Subset\n",
    "A [subset](subset.ipynb) is a portion of a [set](set.ipynb)."
   ]
  },
  {
   "cell_type": "markdown",
   "id": "71d3da09-5cd6-4209-bcf8-1f5375e1f726",
   "metadata": {},
   "source": [
    "### Example: \n",
    "Consider the following sets"
   ]
  },
  {
   "cell_type": "code",
   "execution_count": 14,
   "id": "03f65458-8fd0-47b7-aeaa-2893b02f6ea7",
   "metadata": {},
   "outputs": [],
   "source": [
    "A = {1, 2, 3}\n",
    "B = {1, 2, 3, 4, 5}\n",
    "C = {1, 2, 4, 5}"
   ]
  },
  {
   "cell_type": "markdown",
   "id": "a8a3f851-a872-406e-973f-bae25650def1",
   "metadata": {
    "tags": []
   },
   "source": [
    "Is A a subset of B?"
   ]
  },
  {
   "cell_type": "code",
   "execution_count": 10,
   "id": "c4797e2f-6309-42e3-ac16-aecd246c6052",
   "metadata": {
    "tags": []
   },
   "outputs": [
    {
     "name": "stdout",
     "output_type": "stream",
     "text": [
      "True\n"
     ]
    }
   ],
   "source": [
    "print(A.issubset(B))"
   ]
  },
  {
   "cell_type": "markdown",
   "id": "cd7fad2c-f214-4783-8069-d4aff338dcfc",
   "metadata": {
    "tags": []
   },
   "source": [
    "Is B a subset of A?"
   ]
  },
  {
   "cell_type": "code",
   "execution_count": 11,
   "id": "b2dcb75c-bbeb-4c8d-87ae-32e3679ee1eb",
   "metadata": {
    "tags": []
   },
   "outputs": [
    {
     "name": "stdout",
     "output_type": "stream",
     "text": [
      "False\n"
     ]
    }
   ],
   "source": [
    "print(B.issubset(A))"
   ]
  },
  {
   "cell_type": "markdown",
   "id": "29948173-e8c4-4c5c-bdde-02b318074734",
   "metadata": {
    "tags": []
   },
   "source": [
    "Is A a subset of C?"
   ]
  },
  {
   "cell_type": "code",
   "execution_count": 12,
   "id": "74f53022-c3ce-4227-92bd-3f9041c9833b",
   "metadata": {
    "tags": []
   },
   "outputs": [
    {
     "name": "stdout",
     "output_type": "stream",
     "text": [
      "False\n"
     ]
    }
   ],
   "source": [
    "print(A.issubset(C))"
   ]
  },
  {
   "cell_type": "markdown",
   "id": "13b53b86-24af-4d9b-ba15-011bc59e3095",
   "metadata": {
    "tags": []
   },
   "source": [
    "Is C a subset of B?"
   ]
  },
  {
   "cell_type": "code",
   "execution_count": 13,
   "id": "9cf9b555-7a87-4da9-a898-f54485fec33f",
   "metadata": {
    "tags": []
   },
   "outputs": [
    {
     "name": "stdout",
     "output_type": "stream",
     "text": [
      "True\n"
     ]
    }
   ],
   "source": [
    "print(C.issubset(B))"
   ]
  }
 ],
 "metadata": {
  "kernelspec": {
   "display_name": "Python 3 (ipykernel)",
   "language": "python",
   "name": "python3"
  },
  "language_info": {
   "codemirror_mode": {
    "name": "ipython",
    "version": 3
   },
   "file_extension": ".py",
   "mimetype": "text/x-python",
   "name": "python",
   "nbconvert_exporter": "python",
   "pygments_lexer": "ipython3",
   "version": "3.9.7"
  }
 },
 "nbformat": 4,
 "nbformat_minor": 5
}
