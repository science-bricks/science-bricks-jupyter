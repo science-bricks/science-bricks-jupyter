{
 "cells": [
  {
   "cell_type": "markdown",
   "metadata": {},
   "source": [
    "# Propositional Logic\n",
    "[Propositional logic](propositional_logic.ipynb) is the branch of [logic](logic.ipynb) that operates with [propositions](proposition.ipynb)."
   ]
  }
 ],
 "metadata": {
  "kernelspec": {
   "display_name": "Python 3.9.13 ('.venv': poetry)",
   "language": "python",
   "name": "python3"
  },
  "language_info": {
   "name": "python",
   "version": "3.9.13"
  },
  "orig_nbformat": 4,
  "vscode": {
   "interpreter": {
    "hash": "3781b82eb17df9c66af38e9c307b014ba2843529dac39acee0a0cd57a3435555"
   }
  }
 },
 "nbformat": 4,
 "nbformat_minor": 2
}
