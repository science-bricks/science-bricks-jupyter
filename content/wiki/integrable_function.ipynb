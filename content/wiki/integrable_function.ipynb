{
 "cells": [
  {
   "cell_type": "markdown",
   "id": "eab4fbea-6129-49f9-bd85-186d0f3c9a83",
   "metadata": {},
   "source": [
    "# Integrable function\n",
    "\n",
    "A function $f: M \\to \\overline{\\mathbb{R}}$ is integrable if \n",
    "- $f$ is [measurable](measurable_map.ipynb)\n",
    "- $\\int |f| d\\mu < \\infty$"
   ]
  }
 ],
 "metadata": {
  "kernelspec": {
   "display_name": "Python 3 (ipykernel)",
   "language": "python",
   "name": "python3"
  },
  "language_info": {
   "codemirror_mode": {
    "name": "ipython",
    "version": 3
   },
   "file_extension": ".py",
   "mimetype": "text/x-python",
   "name": "python",
   "nbconvert_exporter": "python",
   "pygments_lexer": "ipython3",
   "version": "3.9.7"
  }
 },
 "nbformat": 4,
 "nbformat_minor": 5
}
