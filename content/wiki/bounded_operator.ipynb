{
 "cells": [
  {
   "cell_type": "markdown",
   "id": "a5a7c696-c9c7-4a2b-92e1-4de2b972c1ed",
   "metadata": {
    "tags": []
   },
   "source": [
    "# Bounded operator\n",
    "\n",
    "A [bounded operator](bounded_operator.ipynb) $A: V \\to W$ is an [operator](operator.ipynb) $A: V \\to W$ such that:\n",
    "\n",
    "$$\n",
    "\\sup_{f \\in V} \\frac{\\|Af\\|_W}{\\|f\\|_V} < \\infty\n",
    "$$"
   ]
  }
 ],
 "metadata": {
  "kernelspec": {
   "display_name": "Python 3 (ipykernel)",
   "language": "python",
   "name": "python3"
  },
  "language_info": {
   "codemirror_mode": {
    "name": "ipython",
    "version": 3
   },
   "file_extension": ".py",
   "mimetype": "text/x-python",
   "name": "python",
   "nbconvert_exporter": "python",
   "pygments_lexer": "ipython3",
   "version": "3.9.7"
  }
 },
 "nbformat": 4,
 "nbformat_minor": 5
}
