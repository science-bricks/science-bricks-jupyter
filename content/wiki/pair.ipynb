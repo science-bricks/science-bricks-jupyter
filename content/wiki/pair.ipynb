{
 "cells": [
  {
   "cell_type": "markdown",
   "id": "f7b90eb4-9d96-46bd-9bba-c474c5769a31",
   "metadata": {},
   "source": [
    "# Pair\n",
    "\n",
    "A [pair](pair.ipynb) is a [tuple](tuple.ipynb) with two elements."
   ]
  }
 ],
 "metadata": {
  "kernelspec": {
   "display_name": "Python 3 (ipykernel)",
   "language": "python",
   "name": "python3"
  },
  "language_info": {
   "codemirror_mode": {
    "name": "ipython",
    "version": 3
   },
   "file_extension": ".py",
   "mimetype": "text/x-python",
   "name": "python",
   "nbconvert_exporter": "python",
   "pygments_lexer": "ipython3",
   "version": "3.9.7"
  }
 },
 "nbformat": 4,
 "nbformat_minor": 5
}
