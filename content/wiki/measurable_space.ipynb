{
 "cells": [
  {
   "cell_type": "markdown",
   "id": "4b766252-e91e-4804-8748-f75473df58eb",
   "metadata": {},
   "source": [
    "# Measurable Space\n",
    "\n",
    "A [measurable space](measurable_space.ipynb) is a pair $(M,\\sigma)$ where $M$ is a [set](set.ipynb) and $\\sigma$ is a [$\\sigma$-algebra](sigma_algebra.ipynb) over $M$."
   ]
  }
 ],
 "metadata": {
  "kernelspec": {
   "display_name": "Python 3 (ipykernel)",
   "language": "python",
   "name": "python3"
  },
  "language_info": {
   "codemirror_mode": {
    "name": "ipython",
    "version": 3
   },
   "file_extension": ".py",
   "mimetype": "text/x-python",
   "name": "python",
   "nbconvert_exporter": "python",
   "pygments_lexer": "ipython3",
   "version": "3.10.7"
  }
 },
 "nbformat": 4,
 "nbformat_minor": 5
}
