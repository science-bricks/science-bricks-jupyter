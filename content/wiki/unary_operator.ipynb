{
 "cells": [
  {
   "cell_type": "markdown",
   "id": "c57d657c-d3e6-4bd9-8804-49f5da05f75f",
   "metadata": {},
   "source": [
    "# Unary operator\n",
    "\n",
    "An unary logical operator is a [logical operator](logical_operator.ipynb) with one input [proposition](proposition.ipynb) $p$. \n",
    "\n",
    "There are four logical operators: \n",
    "- [not](not.ipynb) $\\neg p$\n",
    "- [identity](identity.ipynb) $id(p)$ \n",
    "- [tautology](tautology.ipynb) $\\top p$\n",
    "- [contradiction](contradiction.ipynb) $\\bot p$\n",
    "\n",
    "They are defined in the following truth table:\n",
    "\n",
    "$$\n",
    "\\small\n",
    "\\begin{array}{c||c|c|c}\n",
    "p & \\neg p & \\mathrm{id}(p) & \\top p & \\bot p \\\\\n",
    "\\hline\n",
    "False & True & False & True & False\\\\\n",
    "True & False & True & True & False\n",
    "\\end{array}\\qquad\n",
    "\\begin{array}{ll}\n",
    "  \\neg & NOT\\\\\n",
    "  id   & Identity\\\\\n",
    "  \\top & Tautology\\\\\n",
    "  \\bot & Contradiction\n",
    "\\end{array}\n",
    "$$"
   ]
  },
  {
   "cell_type": "markdown",
   "id": "15e64d55",
   "metadata": {},
   "source": [
    "This can be implemented in Python as follows:"
   ]
  },
  {
   "cell_type": "code",
   "execution_count": 1,
   "id": "08754267-82be-4e91-aa3a-d287cdfc553f",
   "metadata": {
    "tags": []
   },
   "outputs": [
    {
     "data": {
      "text/html": [
       "<div>\n",
       "<style scoped>\n",
       "    .dataframe tbody tr th:only-of-type {\n",
       "        vertical-align: middle;\n",
       "    }\n",
       "\n",
       "    .dataframe tbody tr th {\n",
       "        vertical-align: top;\n",
       "    }\n",
       "\n",
       "    .dataframe thead th {\n",
       "        text-align: right;\n",
       "    }\n",
       "</style>\n",
       "<table border=\"1\" class=\"dataframe\">\n",
       "  <thead>\n",
       "    <tr style=\"text-align: right;\">\n",
       "      <th></th>\n",
       "      <th>p</th>\n",
       "      <th>identity(p)</th>\n",
       "      <th>not(p)</th>\n",
       "      <th>tautology(p)</th>\n",
       "      <th>contradiction(p)</th>\n",
       "    </tr>\n",
       "  </thead>\n",
       "  <tbody>\n",
       "    <tr>\n",
       "      <th>0</th>\n",
       "      <td>True</td>\n",
       "      <td>True</td>\n",
       "      <td>False</td>\n",
       "      <td>True</td>\n",
       "      <td>False</td>\n",
       "    </tr>\n",
       "    <tr>\n",
       "      <th>1</th>\n",
       "      <td>False</td>\n",
       "      <td>False</td>\n",
       "      <td>True</td>\n",
       "      <td>True</td>\n",
       "      <td>False</td>\n",
       "    </tr>\n",
       "  </tbody>\n",
       "</table>\n",
       "</div>"
      ],
      "text/plain": [
       "       p  identity(p)  not(p)  tautology(p)  contradiction(p)\n",
       "0   True         True   False          True             False\n",
       "1  False        False    True          True             False"
      ]
     },
     "execution_count": 1,
     "metadata": {},
     "output_type": "execute_result"
    }
   ],
   "source": [
    "import pandas as pd\n",
    "p = [True, False]\n",
    "data = {\n",
    "    'p':p, \n",
    "    'identity(p)': p, \n",
    "    'not(p)': [not value for value in p], \n",
    "    'tautology(p)': [True for value in p],\n",
    "    'contradiction(p)': [False for value in p],\n",
    "}\n",
    "data_frame = pd.DataFrame(data)\n",
    "data_frame"
   ]
  }
 ],
 "metadata": {
  "kernelspec": {
   "display_name": "Python 3 (ipykernel)",
   "language": "python",
   "name": "python3"
  },
  "language_info": {
   "codemirror_mode": {
    "name": "ipython",
    "version": 3
   },
   "file_extension": ".py",
   "mimetype": "text/x-python",
   "name": "python",
   "nbconvert_exporter": "python",
   "pygments_lexer": "ipython3",
   "version": "3.9.13"
  },
  "vscode": {
   "interpreter": {
    "hash": "3781b82eb17df9c66af38e9c307b014ba2843529dac39acee0a0cd57a3435555"
   }
  }
 },
 "nbformat": 4,
 "nbformat_minor": 5
}
