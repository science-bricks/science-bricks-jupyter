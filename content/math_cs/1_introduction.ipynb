{
 "cells": [
  {
   "cell_type": "markdown",
   "id": "97803c25-97a1-4658-a976-096a70718ec0",
   "metadata": {},
   "source": [
    "# Introduction\n",
    "\n",
    "Mathematics"
   ]
  }
 ],
 "metadata": {
  "kernelspec": {
   "display_name": "Python 3 (ipykernel)",
   "language": "python",
   "name": "python3"
  },
  "language_info": {
   "codemirror_mode": {
    "name": "ipython",
    "version": 3
   },
   "file_extension": ".py",
   "mimetype": "text/x-python",
   "name": "python",
   "nbconvert_exporter": "python",
   "pygments_lexer": "ipython3",
   "version": "3.10.6"
  }
 },
 "nbformat": 4,
 "nbformat_minor": 5
}
