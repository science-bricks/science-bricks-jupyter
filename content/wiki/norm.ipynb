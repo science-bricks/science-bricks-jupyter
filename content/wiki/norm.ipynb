{
 "cells": [
  {
   "cell_type": "markdown",
   "id": "f903094a-d578-4f2e-9678-45020eeb5ebe",
   "metadata": {},
   "source": [
    "# Norm\n",
    "A [norm](norm.ipynb) is a [map](map.ipynb) $\\|\\cdot \\| : V \\to \\mathbb{R}_{\\geq 0}$ that takes a [vector](vector.ipynb) from $(V,+,\\cdot)$ and returns its [size](size.ipynb). For all $v,w \\in V$ it must satisfy:\n",
    "\n",
    "- Positive definiteness:\n",
    "$$\n",
    "\\|v\\| \\geq 0, \\quad \\|v\\|=0 \\iff v = 0\n",
    "$$\n",
    "- Absolute homogeneity:\n",
    "$$\n",
    "\\|\\lambda v\\| = |\\lambda|\\|v\\|\n",
    "$$\n",
    "- Triangle inequality:\n",
    "$$\n",
    "\\|v+w\\| \\leq \\|v\\| + \\|w\\|\n",
    "$$"
   ]
  }
 ],
 "metadata": {
  "kernelspec": {
   "display_name": "Python 3 (ipykernel)",
   "language": "python",
   "name": "python3"
  },
  "language_info": {
   "codemirror_mode": {
    "name": "ipython",
    "version": 3
   },
   "file_extension": ".py",
   "mimetype": "text/x-python",
   "name": "python",
   "nbconvert_exporter": "python",
   "pygments_lexer": "ipython3",
   "version": "3.9.7"
  }
 },
 "nbformat": 4,
 "nbformat_minor": 5
}
