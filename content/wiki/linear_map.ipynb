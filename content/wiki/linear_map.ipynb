{
 "cells": [
  {
   "cell_type": "markdown",
   "id": "230554a6-fb06-47a8-a002-3f10d475e08a",
   "metadata": {},
   "source": [
    "# Linear map\n",
    "\n",
    "A [linear map](linear_map.ipynb) $\\phi: V \\to W$ is a a [map](map.ipynb) between two [vector spaces](vector_space.ipynb) $(V, \\oplus, \\odot)$ and $(W,\\boxplus,\\boxdot)$ over the same [field](field.ipynb) $(K, +,\\cdot)$ such that:\n",
    "\n",
    "$$\n",
    "f(v_1 \\oplus v_2) = f(v_1) \\boxplus f(v_2) \\qquad \\forall v_1, v_2 \\in V\n",
    "$$\n",
    "$$\n",
    "f(\\lambda \\odot V) = \\lambda \\boxdot f(v) \\qquad \\forall \\lambda \\in K, v \\in V\n",
    "$$"
   ]
  }
 ],
 "metadata": {
  "kernelspec": {
   "display_name": "Python 3 (ipykernel)",
   "language": "python",
   "name": "python3"
  },
  "language_info": {
   "codemirror_mode": {
    "name": "ipython",
    "version": 3
   },
   "file_extension": ".py",
   "mimetype": "text/x-python",
   "name": "python",
   "nbconvert_exporter": "python",
   "pygments_lexer": "ipython3",
   "version": "3.9.7"
  }
 },
 "nbformat": 4,
 "nbformat_minor": 5
}
