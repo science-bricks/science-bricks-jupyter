{
 "cells": [
  {
   "cell_type": "markdown",
   "id": "3301ab6a-6712-4b4c-88cb-75a456671c50",
   "metadata": {},
   "source": [
    "# Normed Space\n",
    "\n",
    "A [normed space](normed_space.ipynb) $(V,+,\\cdot,\\|\\cdot\\|)$ is a [vector space](vector_space.ipynb) $(V,+,\\cdot)$ equipped with a [norm](norm.ipynb) $\\|\\cdot\\|$."
   ]
  }
 ],
 "metadata": {
  "kernelspec": {
   "display_name": "Python 3 (ipykernel)",
   "language": "python",
   "name": "python3"
  },
  "language_info": {
   "codemirror_mode": {
    "name": "ipython",
    "version": 3
   },
   "file_extension": ".py",
   "mimetype": "text/x-python",
   "name": "python",
   "nbconvert_exporter": "python",
   "pygments_lexer": "ipython3",
   "version": "3.9.7"
  }
 },
 "nbformat": 4,
 "nbformat_minor": 5
}
