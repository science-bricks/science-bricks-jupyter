{
 "cells": [
  {
   "cell_type": "markdown",
   "id": "7cc3954c-b7e4-41df-99ba-5bce38b7bcf5",
   "metadata": {},
   "source": [
    "# Random Variable\n",
    "A [random variable](random_variable.ipynb) is a [measurable map](measurable_map.ipynb) from a [probability space](probability_space.ipynb) to a [measurable space](measurable_space.ipynb) known as the state space."
   ]
  }
 ],
 "metadata": {
  "kernelspec": {
   "display_name": "Python 3 (ipykernel)",
   "language": "python",
   "name": "python3"
  },
  "language_info": {
   "codemirror_mode": {
    "name": "ipython",
    "version": 3
   },
   "file_extension": ".py",
   "mimetype": "text/x-python",
   "name": "python",
   "nbconvert_exporter": "python",
   "pygments_lexer": "ipython3",
   "version": "3.9.7"
  }
 },
 "nbformat": 4,
 "nbformat_minor": 5
}
