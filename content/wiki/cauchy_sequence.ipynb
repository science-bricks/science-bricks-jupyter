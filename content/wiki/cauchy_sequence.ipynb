{
 "cells": [
  {
   "cell_type": "markdown",
   "id": "70533ed8-b878-455a-8d1d-4decd3b3b233",
   "metadata": {},
   "source": [
    "# Cauchy sequence\n",
    "A [Cauchy sequence](cauchy_sequence.ipynb) is a [sequence](sequence.ipynb) $s_1,\\ldots,s_n \\in S$ in a [metric space](metric_space.ipynb) $(S,d)$ whose elements become arbitrarily close to each other as the sequence progresses. Mathematically:\n",
    "\n",
    "$$\n",
    "\\lim_{min(m,n)\\to \\infty} d(s_m, s_n) = 0\n",
    "$$"
   ]
  }
 ],
 "metadata": {
  "kernelspec": {
   "display_name": "Python 3 (ipykernel)",
   "language": "python",
   "name": "python3"
  },
  "language_info": {
   "codemirror_mode": {
    "name": "ipython",
    "version": 3
   },
   "file_extension": ".py",
   "mimetype": "text/x-python",
   "name": "python",
   "nbconvert_exporter": "python",
   "pygments_lexer": "ipython3",
   "version": "3.9.7"
  }
 },
 "nbformat": 4,
 "nbformat_minor": 5
}
