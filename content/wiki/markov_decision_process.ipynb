{
 "cells": [
  {
   "cell_type": "markdown",
   "id": "78399b60-31e5-4195-9c83-ea23dae9f586",
   "metadata": {},
   "source": [
    "# Markov Decision Process\n",
    "\n",
    "Something related to a [Markov Chain](markov_chain.ipynb)."
   ]
  }
 ],
 "metadata": {
  "kernelspec": {
   "display_name": "Python 3 (ipykernel)",
   "language": "python",
   "name": "python3"
  },
  "language_info": {
   "codemirror_mode": {
    "name": "ipython",
    "version": 3
   },
   "file_extension": ".py",
   "mimetype": "text/x-python",
   "name": "python",
   "nbconvert_exporter": "python",
   "pygments_lexer": "ipython3",
   "version": "3.9.7"
  }
 },
 "nbformat": 4,
 "nbformat_minor": 5
}
