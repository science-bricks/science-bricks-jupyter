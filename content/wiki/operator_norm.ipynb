{
 "cells": [
  {
   "cell_type": "markdown",
   "id": "050c0890-4478-4cb4-a620-c08d5c458fab",
   "metadata": {},
   "source": [
    "# Operator norm\n",
    "\n",
    "The [operator norm](operator_norm.ipynb) is the [norm](norm.ipynb) $\\|\\cdot \\|$ induced by a [bounded operator](bounded_operator.ipynb) $A: V \\to W$, defined as:\n",
    "\n",
    "$$\n",
    "\\|A\\| = \\sup_{\\|f\\|_V=1}\\|Af\\|_W\n",
    "$$"
   ]
  }
 ],
 "metadata": {
  "kernelspec": {
   "display_name": "Python 3 (ipykernel)",
   "language": "python",
   "name": "python3"
  },
  "language_info": {
   "codemirror_mode": {
    "name": "ipython",
    "version": 3
   },
   "file_extension": ".py",
   "mimetype": "text/x-python",
   "name": "python",
   "nbconvert_exporter": "python",
   "pygments_lexer": "ipython3",
   "version": "3.9.7"
  }
 },
 "nbformat": 4,
 "nbformat_minor": 5
}
