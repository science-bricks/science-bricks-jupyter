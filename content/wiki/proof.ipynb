{
 "cells": [
  {
   "cell_type": "markdown",
   "id": "e517aee5-c0e2-4f95-8a17-231a21f37ea7",
   "metadata": {},
   "source": [
    "# Proof\n",
    "\n",
    "A [proof](proof.ipynb) is a process of obtaining [theorems](theorem.ipynb) from [axioms](axiom.ipynb)."
   ]
  }
 ],
 "metadata": {
  "kernelspec": {
   "display_name": "Python 3 (ipykernel)",
   "language": "python",
   "name": "python3"
  },
  "language_info": {
   "codemirror_mode": {
    "name": "ipython",
    "version": 3
   },
   "file_extension": ".py",
   "mimetype": "text/x-python",
   "name": "python",
   "nbconvert_exporter": "python",
   "pygments_lexer": "ipython3",
   "version": "3.9.13"
  }
 },
 "nbformat": 4,
 "nbformat_minor": 5
}
