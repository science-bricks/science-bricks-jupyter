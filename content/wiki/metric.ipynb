{
 "cells": [
  {
   "cell_type": "markdown",
   "id": "adac8740-1f6f-4d59-8c27-33356ba5c3c4",
   "metadata": {},
   "source": [
    "# Metric\n",
    "\n",
    "A [metric](metric.ipynb)  is a [map](map.ipynb) $d: S \\times S \\to \\mathbb{R}_{\\geq 0}$ that takes two elements of a [set](set.ipynb) $S$ and returns their \"[distance](distance.ipynb)\". To be well defined, a metric must satisfy:\n",
    "\n",
    "- Identity of indiscernibles:\n",
    "$$\n",
    "d(x,y)= 0 \\iff x = y, \n",
    "$$\n",
    "- Symmetry:\n",
    "$$\n",
    "\\forall x,y \\in S: d(x,y) = d(y,x)\n",
    "$$\n",
    "- Triangle inequality:\n",
    "$$\n",
    "\\forall x,y,z \\in S: d(x,y) + d(y,z) \\geq d(x,z)\n",
    "$$"
   ]
  }
 ],
 "metadata": {
  "kernelspec": {
   "display_name": "Python 3 (ipykernel)",
   "language": "python",
   "name": "python3"
  },
  "language_info": {
   "codemirror_mode": {
    "name": "ipython",
    "version": 3
   },
   "file_extension": ".py",
   "mimetype": "text/x-python",
   "name": "python",
   "nbconvert_exporter": "python",
   "pygments_lexer": "ipython3",
   "version": "3.9.7"
  }
 },
 "nbformat": 4,
 "nbformat_minor": 5
}
