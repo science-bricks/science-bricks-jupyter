{
 "cells": [
  {
   "cell_type": "markdown",
   "metadata": {},
   "source": [
    "# Predicate\n",
    "\n",
    "A [predicate](predicate.ipynb) is an [object](object.ipynb) that takes one or more [propositions](proposition.ipynb) and returns True or False.\n",
    "\n",
    "\n",
    "Example: \n",
    "$$\n",
    "P(p,q) = p \\land q\n",
    "$$\n",
    "\n",
    "One can construct new predicates of given ones by means of [operators](operator.ipynb), e.g.\n",
    "\n",
    "$$\n",
    "Q(x,y,z) :  \\iff P(x) \\lor Q(y,z)\n",
    "$$\n",
    "\n",
    "More interestingly, we can construct a new proposition from a given predicate by using [quantifiers](quantifier.ipynb). For example:\n",
    "\n",
    "$$\n",
    "p : \\iff \\forall x : P(x)\n",
    "$$\n",
    "\n",
    "This means that the proposition $p$ is True [_iff_](iff.ipynb) for every proposition $x$ $P(x)$ is True."
   ]
  }
 ],
 "metadata": {
  "kernelspec": {
   "display_name": "Python 3 (ipykernel)",
   "language": "python",
   "name": "python3"
  },
  "language_info": {
   "codemirror_mode": {
    "name": "ipython",
    "version": 3
   },
   "file_extension": ".py",
   "mimetype": "text/x-python",
   "name": "python",
   "nbconvert_exporter": "python",
   "pygments_lexer": "ipython3",
   "version": "3.9.13"
  },
  "vscode": {
   "interpreter": {
    "hash": "3781b82eb17df9c66af38e9c307b014ba2843529dac39acee0a0cd57a3435555"
   }
  }
 },
 "nbformat": 4,
 "nbformat_minor": 4
}
