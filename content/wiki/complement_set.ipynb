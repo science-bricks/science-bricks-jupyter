{
 "cells": [
  {
   "cell_type": "markdown",
   "id": "78fda02a-e569-41cd-8e95-328dac34cb42",
   "metadata": {},
   "source": [
    "# Complement Set\n",
    "\n",
    "Let $E$ be a [subset](subset.ipynb) of $S$. Then, the [complement set](complement_set.ipynb) of $E$ is $S$ [minus](set_difference.ipynb) $E$. Mathematically:\n",
    "$$\n",
    "E' = S \\setminus E \\equiv \\{x: x\\in S, x \\notin E \\}\n",
    "$$"
   ]
  },
  {
   "cell_type": "markdown",
   "id": "bbf5a030-e89d-42ee-bd11-9c448b100529",
   "metadata": {},
   "source": [
    "### Example:\n",
    "Consider the following sets:"
   ]
  },
  {
   "cell_type": "code",
   "execution_count": 5,
   "id": "8d76f1b7-c4bb-4994-8017-ae60dffbbc65",
   "metadata": {},
   "outputs": [],
   "source": [
    "S = {1, 2, 3, 4, 5, 6}\n",
    "E = {3, 4, 5}"
   ]
  },
  {
   "cell_type": "markdown",
   "id": "1b15179e-c76f-4c84-92ba-b52617a523c0",
   "metadata": {},
   "source": [
    "The complement set is:"
   ]
  },
  {
   "cell_type": "code",
   "execution_count": 4,
   "id": "beae3c4d-4cb0-4c67-b0fe-01d8a874e54b",
   "metadata": {},
   "outputs": [
    {
     "name": "stdout",
     "output_type": "stream",
     "text": [
      "{1, 2, 6}\n"
     ]
    }
   ],
   "source": [
    "print(S-E)"
   ]
  }
 ],
 "metadata": {
  "kernelspec": {
   "display_name": "Python 3 (ipykernel)",
   "language": "python",
   "name": "python3"
  },
  "language_info": {
   "codemirror_mode": {
    "name": "ipython",
    "version": 3
   },
   "file_extension": ".py",
   "mimetype": "text/x-python",
   "name": "python",
   "nbconvert_exporter": "python",
   "pygments_lexer": "ipython3",
   "version": "3.9.7"
  }
 },
 "nbformat": 4,
 "nbformat_minor": 5
}
