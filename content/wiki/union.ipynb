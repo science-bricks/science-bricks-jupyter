{
 "cells": [
  {
   "cell_type": "markdown",
   "id": "59440ed0-dba5-492a-8700-498ffefb3af0",
   "metadata": {},
   "source": [
    "# Union\n",
    "\n",
    "The [union](union.ipynb) $\\bigcup$ is a [map](map.ipynb) that takes $n\\in \\mathbb{N}$ [sets](set.ipynb) and returns a set with all of their elements combined. Mathematically:\n",
    "$$\n",
    "\\bigcup_i A_i = \\{ x : \\bigvee_i x \\in  A_i \\} \\qquad i = 1,\\ldots, N\n",
    "$$"
   ]
  },
  {
   "cell_type": "code",
   "execution_count": 7,
   "id": "3d2bbe0b-6470-400c-9e06-463f4f6cdc73",
   "metadata": {},
   "outputs": [
    {
     "name": "stdout",
     "output_type": "stream",
     "text": [
      "{1, 2, 3, 4, 5, 6, 7, 8}\n",
      "{1, 2, 3, 4, 5, 6, 7, 8}\n"
     ]
    }
   ],
   "source": [
    "def union(A,B):\n",
    "    element_list = list(A)\n",
    "    for element in B:\n",
    "        if element in B and element not in A:\n",
    "            element_list.append(element)\n",
    "    return set(element_list)\n",
    "\n",
    "A = {1,2,3,4,5}\n",
    "B = {4,5,6,7,8}\n",
    "print(union(A,B))\n",
    "print(A | B)"
   ]
  }
 ],
 "metadata": {
  "kernelspec": {
   "display_name": "Python 3 (ipykernel)",
   "language": "python",
   "name": "python3"
  },
  "language_info": {
   "codemirror_mode": {
    "name": "ipython",
    "version": 3
   },
   "file_extension": ".py",
   "mimetype": "text/x-python",
   "name": "python",
   "nbconvert_exporter": "python",
   "pygments_lexer": "ipython3",
   "version": "3.9.7"
  }
 },
 "nbformat": 4,
 "nbformat_minor": 5
}
