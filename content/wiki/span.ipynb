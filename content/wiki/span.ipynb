{
 "cells": [
  {
   "cell_type": "markdown",
   "id": "8554e7cd-f0e7-4f14-bf6c-3cbedad36c16",
   "metadata": {},
   "source": [
    "# Span\n",
    "\n",
    "The [span](span.ipynb) of TODO"
   ]
  }
 ],
 "metadata": {
  "kernelspec": {
   "display_name": "Python 3 (ipykernel)",
   "language": "python",
   "name": "python3"
  },
  "language_info": {
   "codemirror_mode": {
    "name": "ipython",
    "version": 3
   },
   "file_extension": ".py",
   "mimetype": "text/x-python",
   "name": "python",
   "nbconvert_exporter": "python",
   "pygments_lexer": "ipython3",
   "version": "3.9.7"
  }
 },
 "nbformat": 4,
 "nbformat_minor": 5
}
