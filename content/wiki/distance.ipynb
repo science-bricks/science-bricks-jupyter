{
 "cells": [
  {
   "cell_type": "markdown",
   "id": "6b6efe38-303b-4ec0-9fa9-cebfcc7d57cd",
   "metadata": {},
   "source": [
    "# Distance\n",
    "\n",
    "The [distance](distance.ipynb) between two points is the length of the path connecting them. In [Euclidean space](euclidean_space.ipynb) it coincides with its [metric](metric.ipynb) $d: X \\times X \\to \\mathbb{R}_{\\geq 0}$."
   ]
  }
 ],
 "metadata": {
  "kernelspec": {
   "display_name": "Python 3 (ipykernel)",
   "language": "python",
   "name": "python3"
  },
  "language_info": {
   "codemirror_mode": {
    "name": "ipython",
    "version": 3
   },
   "file_extension": ".py",
   "mimetype": "text/x-python",
   "name": "python",
   "nbconvert_exporter": "python",
   "pygments_lexer": "ipython3",
   "version": "3.9.7"
  }
 },
 "nbformat": 4,
 "nbformat_minor": 5
}
