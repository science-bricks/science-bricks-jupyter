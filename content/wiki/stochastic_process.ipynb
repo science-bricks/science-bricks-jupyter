{
 "cells": [
  {
   "cell_type": "markdown",
   "id": "8b9063f8-53c8-4134-906a-a87a5d7dda6a",
   "metadata": {},
   "source": [
    "# Stochastic Process\n",
    "A [stochastic process](stochastic_process.ipynb) is a [set](sequence.ipynb) of [random variables](random_variable.ipynb) $X(t)$ that evolve over time."
   ]
  }
 ],
 "metadata": {
  "kernelspec": {
   "display_name": "Python 3 (ipykernel)",
   "language": "python",
   "name": "python3"
  },
  "language_info": {
   "codemirror_mode": {
    "name": "ipython",
    "version": 3
   },
   "file_extension": ".py",
   "mimetype": "text/x-python",
   "name": "python",
   "nbconvert_exporter": "python",
   "pygments_lexer": "ipython3",
   "version": "3.9.7"
  }
 },
 "nbformat": 4,
 "nbformat_minor": 5
}
