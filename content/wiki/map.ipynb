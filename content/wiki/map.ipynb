{
 "cells": [
  {
   "cell_type": "markdown",
   "id": "3dbd4d59-f681-43b8-ad44-169da1b314f6",
   "metadata": {},
   "source": [
    "# Map\n",
    "A [map](map.ipynb) $\\phi : A \\to B$\n",
    "is an [object](object.ipynb) that takes one [tuple](tuple.ipynb) from the [set](set.ipynb) $A$ and returns one [tuple](tuple.ipynb) from the [set](set.ipynb) $B$. Mathematically:\n",
    "\n",
    "$$\n",
    "  \\begin{array}{crcl}\n",
    "    \\phi : & A  & \\to & B\\\\\n",
    "           & a  & \\mapsto  & b:= \\phi(a)\n",
    "  \\end{array}\n",
    "$$"
   ]
  },
  {
   "cell_type": "code",
   "execution_count": 3,
   "id": "612b179f-6fae-4b18-a8b1-7cab95421102",
   "metadata": {},
   "outputs": [
    {
     "data": {
      "text/plain": [
       "'great'"
      ]
     },
     "execution_count": 3,
     "metadata": {},
     "output_type": "execute_result"
    }
   ],
   "source": [
    "movies = {'Harry Potter', 'Good Will Hunting', 'Fifty Shades of Grey'}\n",
    "opinion = {'great', 'boring', \"I don't know\"}\n",
    "\n",
    "def my_taste(movie):\n",
    "    if movie == 'Harry Potter':\n",
    "        return 'great'\n",
    "    elif movie == 'Good Will Hunting':\n",
    "        return 'great'\n",
    "    elif movie == 'Fifty Shades of Grey':\n",
    "        return 'boring'\n",
    "    else:\n",
    "        return \"I don't know\"\n",
    "\n",
    "my_taste('Harry Potter')"
   ]
  }
 ],
 "metadata": {
  "kernelspec": {
   "display_name": "Python 3 (ipykernel)",
   "language": "python",
   "name": "python3"
  },
  "language_info": {
   "codemirror_mode": {
    "name": "ipython",
    "version": 3
   },
   "file_extension": ".py",
   "mimetype": "text/x-python",
   "name": "python",
   "nbconvert_exporter": "python",
   "pygments_lexer": "ipython3",
   "version": "3.9.7"
  }
 },
 "nbformat": 4,
 "nbformat_minor": 5
}
