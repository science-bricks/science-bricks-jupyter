{
 "cells": [
  {
   "cell_type": "markdown",
   "id": "c93b5472-8e6a-4341-99ac-b38cc51212f8",
   "metadata": {},
   "source": [
    "# Division algebra\n",
    "\n",
    "A [division algebra](division_algebra.ipynb) is a [ring](ring.ipynb) $(S, +, \\cdot )$ that is simultaneously an [associative ring](associative_ring.ipynb), a [unit ring](unit_ring.ipynb) and, $\\forall a \\in S$, satisfies:\n",
    "\n",
    "- $(\\cdot)$ Inverse: \n",
    "$$\n",
    "\\forall a \\neq 0 : \\exists (a^{-1}) \\in S : a^{-1} \\cdot a = a \\cdot a^{-1}= i\n",
    "$$\n",
    "where $i$ is the identity element."
   ]
  }
 ],
 "metadata": {
  "kernelspec": {
   "display_name": "Python 3 (ipykernel)",
   "language": "python",
   "name": "python3"
  },
  "language_info": {
   "codemirror_mode": {
    "name": "ipython",
    "version": 3
   },
   "file_extension": ".py",
   "mimetype": "text/x-python",
   "name": "python",
   "nbconvert_exporter": "python",
   "pygments_lexer": "ipython3",
   "version": "3.9.7"
  }
 },
 "nbformat": 4,
 "nbformat_minor": 5
}
