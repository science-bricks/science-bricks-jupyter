{
 "cells": [
  {
   "cell_type": "markdown",
   "id": "729389fd-e87e-4ee2-ab40-6fed0aed4beb",
   "metadata": {},
   "source": [
    "# Power Set\n",
    "\n",
    "The [power set](power_set.ipynb) $\\mathcal{P}(M)$ of a [set](set.ipynb) $M$ is the set of all possible [subsets](subset.ipynb) of $M$."
   ]
  }
 ],
 "metadata": {
  "kernelspec": {
   "display_name": "Python 3 (ipykernel)",
   "language": "python",
   "name": "python3"
  },
  "language_info": {
   "codemirror_mode": {
    "name": "ipython",
    "version": 3
   },
   "file_extension": ".py",
   "mimetype": "text/x-python",
   "name": "python",
   "nbconvert_exporter": "python",
   "pygments_lexer": "ipython3",
   "version": "3.9.7"
  }
 },
 "nbformat": 4,
 "nbformat_minor": 5
}
