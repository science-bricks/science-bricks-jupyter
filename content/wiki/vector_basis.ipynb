{
 "cells": [
  {
   "cell_type": "markdown",
   "id": "79135179-7091-4a0e-bb98-fc89b9341683",
   "metadata": {},
   "source": [
    "# Vector Basis\n",
    "\n",
    "A [vector basis](vector_basis.ipynb) is a [linearly independent](linear_independence.ipynb ) [subset](subset.ipynb) of a [vector space](vector_space.ipynb) that spans the entire [vector space](vector_space.ipynb)."
   ]
  }
 ],
 "metadata": {
  "kernelspec": {
   "display_name": "Python 3 (ipykernel)",
   "language": "python",
   "name": "python3"
  },
  "language_info": {
   "codemirror_mode": {
    "name": "ipython",
    "version": 3
   },
   "file_extension": ".py",
   "mimetype": "text/x-python",
   "name": "python",
   "nbconvert_exporter": "python",
   "pygments_lexer": "ipython3",
   "version": "3.9.7"
  }
 },
 "nbformat": 4,
 "nbformat_minor": 5
}
