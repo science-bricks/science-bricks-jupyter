{
 "cells": [
  {
   "cell_type": "markdown",
   "id": "97fe749e-e82c-4148-83ce-8e2bc2725cf3",
   "metadata": {},
   "source": [
    "# List\n",
    "\n",
    "A [list](list.ipynb) is an ordered collection of [objects](object.ipynb)."
   ]
  },
  {
   "cell_type": "code",
   "execution_count": 4,
   "id": "09f0bffb-6079-42e7-863e-a19d9bf4aa06",
   "metadata": {},
   "outputs": [
    {
     "name": "stdout",
     "output_type": "stream",
     "text": [
      "['foo', 'foo', 4, 3.5, ['another list', 4]]\n"
     ]
    }
   ],
   "source": [
    "list = ['foo', 'foo', 4, 3.5, ['another list', 4]]\n",
    "print(list)"
   ]
  }
 ],
 "metadata": {
  "kernelspec": {
   "display_name": "Python 3 (ipykernel)",
   "language": "python",
   "name": "python3"
  },
  "language_info": {
   "codemirror_mode": {
    "name": "ipython",
    "version": 3
   },
   "file_extension": ".py",
   "mimetype": "text/x-python",
   "name": "python",
   "nbconvert_exporter": "python",
   "pygments_lexer": "ipython3",
   "version": "3.9.7"
  }
 },
 "nbformat": 4,
 "nbformat_minor": 5
}
