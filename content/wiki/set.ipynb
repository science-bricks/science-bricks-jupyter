{
 "cells": [
  {
   "cell_type": "markdown",
   "id": "c0352b6b-8a4b-472a-9135-778d25810c70",
   "metadata": {},
   "source": [
    "# Set\n",
    "\n",
    "A [set](set.ipynb) is an unordered collection of distinct [objects](object.ipynb)."
   ]
  },
  {
   "cell_type": "code",
   "execution_count": 10,
   "id": "227cf7c4-1e45-42d2-aac4-ac6d36f80803",
   "metadata": {},
   "outputs": [
    {
     "name": "stdout",
     "output_type": "stream",
     "text": [
      "List of fruits: \n",
      " ['apple', 'orange', 'apple', 'pear', 'orange', 'banana']\n",
      "Set of fruits: \n",
      " {'orange', 'banana', 'pear', 'apple'}\n"
     ]
    }
   ],
   "source": [
    "list_of_fruits = ['apple', 'orange', 'apple', 'pear', 'orange', 'banana']\n",
    "set_of_fruits = set(list_of_fruits)\n",
    "print(\"List of fruits: \\n\", list_of_fruits)\n",
    "print(\"Set of fruits: \\n\", basket)"
   ]
  }
 ],
 "metadata": {
  "kernelspec": {
   "display_name": "Python 3 (ipykernel)",
   "language": "python",
   "name": "python3"
  },
  "language_info": {
   "codemirror_mode": {
    "name": "ipython",
    "version": 3
   },
   "file_extension": ".py",
   "mimetype": "text/x-python",
   "name": "python",
   "nbconvert_exporter": "python",
   "pygments_lexer": "ipython3",
   "version": "3.9.13"
  }
 },
 "nbformat": 4,
 "nbformat_minor": 5
}
