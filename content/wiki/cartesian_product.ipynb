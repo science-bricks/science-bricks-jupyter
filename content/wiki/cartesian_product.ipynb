{
 "cells": [
  {
   "cell_type": "markdown",
   "id": "4e0aae3e-6547-4da8-bfe2-50e24e60fc4d",
   "metadata": {},
   "source": [
    "# Cartesian product\n",
    "\n",
    "The [cartesian product](cartesian_product.ipynb) $\\times$ between two [sets](set.ipynb) $A,B$ is the set of all possible [pairs](pair.ipynb), defined by:\n",
    "\n",
    "$$\n",
    "A\\times B := \\{ (a,b): a \\in A, b \\in B\\}\n",
    "$$"
   ]
  }
 ],
 "metadata": {
  "kernelspec": {
   "display_name": "Python 3 (ipykernel)",
   "language": "python",
   "name": "python3"
  },
  "language_info": {
   "codemirror_mode": {
    "name": "ipython",
    "version": 3
   },
   "file_extension": ".py",
   "mimetype": "text/x-python",
   "name": "python",
   "nbconvert_exporter": "python",
   "pygments_lexer": "ipython3",
   "version": "3.9.7"
  }
 },
 "nbformat": 4,
 "nbformat_minor": 5
}
