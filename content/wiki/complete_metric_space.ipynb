{
 "cells": [
  {
   "cell_type": "markdown",
   "id": "22bd86b1-9be2-43cc-a951-1399efe2d261",
   "metadata": {},
   "source": [
    "# Complete metric space\n",
    "A [complete metric space](complete_metric_space.ipynb) $(S,d)$ is a [metric space](metric_space.ipynb) $(S,d)$ in which every [Cauchy sequence](cauchy_sequence.ipynb)  $s_1,\\ldots,s_n \\in S$ is convergent.\n"
   ]
  }
 ],
 "metadata": {
  "kernelspec": {
   "display_name": "Python 3 (ipykernel)",
   "language": "python",
   "name": "python3"
  },
  "language_info": {
   "codemirror_mode": {
    "name": "ipython",
    "version": 3
   },
   "file_extension": ".py",
   "mimetype": "text/x-python",
   "name": "python",
   "nbconvert_exporter": "python",
   "pygments_lexer": "ipython3",
   "version": "3.9.7"
  }
 },
 "nbformat": 4,
 "nbformat_minor": 5
}
