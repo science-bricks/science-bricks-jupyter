{
 "cells": [
  {
   "cell_type": "markdown",
   "id": "73ebb9bb-a7cf-4c63-b9c6-f21c020e5baa",
   "metadata": {},
   "source": [
    "# Lebesgue integral\n",
    "\n",
    "Let $(M,\\sigma, \\mu)$ be a [measure space](measure_space.ipynb). Then, the integral $\\int f d\\mu$ of a non-negative measurable function $f : M \\to \\overline{\\mathbb{R}}$ is defined as:\n",
    "\n",
    "$$\n",
    "\\int f d\\mu : = \\sup \\left\\{\\sum_{z\\in s(M)} z \\mu (preim_s\\{z\\})\\right\\}\n",
    "$$"
   ]
  }
 ],
 "metadata": {
  "kernelspec": {
   "display_name": "Python 3 (ipykernel)",
   "language": "python",
   "name": "python3"
  },
  "language_info": {
   "codemirror_mode": {
    "name": "ipython",
    "version": 3
   },
   "file_extension": ".py",
   "mimetype": "text/x-python",
   "name": "python",
   "nbconvert_exporter": "python",
   "pygments_lexer": "ipython3",
   "version": "3.9.7"
  }
 },
 "nbformat": 4,
 "nbformat_minor": 5
}
