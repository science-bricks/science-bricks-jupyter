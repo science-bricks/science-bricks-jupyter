{
 "cells": [
  {
   "cell_type": "markdown",
   "id": "460a4eca-c12c-407d-a0e1-5d2a53101e08",
   "metadata": {},
   "source": [
    "# Logical operator\n",
    "\n",
    "A [logical operator](logical_operator.ipynb) is an [object](object.ipynb) that takes one or more [propositions](proposition.ipynb) and returns a new proposition. Any higher-order operator can be built from [unary](unary_operator.ipynb) and [binary](binary_operator.ipynb)  operators."
   ]
  }
 ],
 "metadata": {
  "kernelspec": {
   "display_name": "Python 3.9.13 ('.venv': poetry)",
   "language": "python",
   "name": "python3"
  },
  "language_info": {
   "codemirror_mode": {
    "name": "ipython",
    "version": 3
   },
   "file_extension": ".py",
   "mimetype": "text/x-python",
   "name": "python",
   "nbconvert_exporter": "python",
   "pygments_lexer": "ipython3",
   "version": "3.9.13"
  },
  "vscode": {
   "interpreter": {
    "hash": "3781b82eb17df9c66af38e9c307b014ba2843529dac39acee0a0cd57a3435555"
   }
  }
 },
 "nbformat": 4,
 "nbformat_minor": 5
}
