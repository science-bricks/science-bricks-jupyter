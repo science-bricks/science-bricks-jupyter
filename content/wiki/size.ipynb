{
 "cells": [
  {
   "cell_type": "markdown",
   "id": "eea66dec-6fb2-40f1-bec6-77358837d8b3",
   "metadata": {},
   "source": [
    "# Size\n",
    "\n",
    "The [size](size.ipynb) of a [vector](vector.ipynb) of a [normed space](normed_space.ipynb) is its [norm](norm.ipynb)"
   ]
  }
 ],
 "metadata": {
  "kernelspec": {
   "display_name": "Python 3 (ipykernel)",
   "language": "python",
   "name": "python3"
  },
  "language_info": {
   "codemirror_mode": {
    "name": "ipython",
    "version": 3
   },
   "file_extension": ".py",
   "mimetype": "text/x-python",
   "name": "python",
   "nbconvert_exporter": "python",
   "pygments_lexer": "ipython3",
   "version": "3.9.7"
  }
 },
 "nbformat": 4,
 "nbformat_minor": 5
}
