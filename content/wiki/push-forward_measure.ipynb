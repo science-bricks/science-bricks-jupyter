{
 "cells": [
  {
   "cell_type": "markdown",
   "id": "4b7cc749-763b-43b1-89ec-27a139480764",
   "metadata": {},
   "source": [
    "# Push-forward measure\n",
    "\n",
    "Let $(M,\\sigma,\\mu)$ be a [measure space](measure_space.ipynb) and $(N,\\tau)$ be a [measurable space](measurable_space.ipynb). Let $f:M \\to N$ be a measurable map.\n",
    "The push-forward measure $f_*\\mu$ is a [measure](measure.ipynb) on $(N,\\tau)$ defined by \n",
    "$$\n",
    "  \\begin{array}{crcl}\n",
    "    f_*\\mu : & \\tau  & \\to & \\mathbb{R}_{\\geq 0}\\\\\n",
    "           & A  & \\mapsto  & (f_*\\mu)A:= \\mu(preim_f(A))\n",
    "  \\end{array}\n",
    "$$"
   ]
  }
 ],
 "metadata": {
  "kernelspec": {
   "display_name": "Python 3 (ipykernel)",
   "language": "python",
   "name": "python3"
  },
  "language_info": {
   "codemirror_mode": {
    "name": "ipython",
    "version": 3
   },
   "file_extension": ".py",
   "mimetype": "text/x-python",
   "name": "python",
   "nbconvert_exporter": "python",
   "pygments_lexer": "ipython3",
   "version": "3.9.7"
  }
 },
 "nbformat": 4,
 "nbformat_minor": 5
}
