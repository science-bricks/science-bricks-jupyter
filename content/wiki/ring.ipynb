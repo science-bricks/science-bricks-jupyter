{
 "cells": [
  {
   "cell_type": "markdown",
   "id": "f1652080-0f24-4ae7-bb0d-dc091c35b87c",
   "metadata": {},
   "source": [
    "# Ring\n",
    "A [ring](ring.ipynb)  $(S, +, \\cdot )$ is a [set](set.ipynb) $S$ equipped with two [maps](map.ipynb):\n",
    "-  $+: S \\times S \\to S$\n",
    "- $\\cdot : S \\times S \\to S$\n",
    "\n",
    "that, $\\forall a,b,c \\in S$, satisfies:\n",
    "\n",
    "1. $(+)$ Commutativity: \n",
    "$$\n",
    "(a+b)+c = a + (b+c)\n",
    "$$\n",
    "2. $(+)$ Associativity: \n",
    "$$\n",
    "a+b= b+a\n",
    "$$\n",
    "3. $(+)$ Neutral element: \n",
    "$$\n",
    "\\exists 0 \\in S: a + 0 = a\n",
    "$$\n",
    "4. $(+)$ Inverse: \n",
    "$$\n",
    "\\exists (-a) \\in S : a + (-a) = 0\n",
    "$$\n",
    "5. $(+)(\\cdot)$ Distributivity: \n",
    "$$\n",
    "a\\cdot (b + c) = (a \\cdot b) + (a \\cdot c)\n",
    "$$\n",
    "$$\n",
    "(b + c)\\cdot a = (b \\cdot a) + (c \\cdot a)\n",
    "$$\n",
    "\n",
    "Mnemonic: $C^{+}A^{+}N^{+}I^{+}D^{+}_{(\\cdot)}$\n",
    "\n",
    "### Deprecated \n",
    "that satisfies $C^{+}A^{+}N^{+}I^{+}$ for $S$ and $A^{\\cdot}N^{\\cdot}D^{\\cdot}_{+}$  for $S\\setminus \\{0\\}$. Where $D^{\\cdot}_+$ means $\\cdot$ is distributive wrt $+$."
   ]
  }
 ],
 "metadata": {
  "kernelspec": {
   "display_name": "Python 3 (ipykernel)",
   "language": "python",
   "name": "python3"
  },
  "language_info": {
   "codemirror_mode": {
    "name": "ipython",
    "version": 3
   },
   "file_extension": ".py",
   "mimetype": "text/x-python",
   "name": "python",
   "nbconvert_exporter": "python",
   "pygments_lexer": "ipython3",
   "version": "3.9.7"
  }
 },
 "nbformat": 4,
 "nbformat_minor": 5
}
