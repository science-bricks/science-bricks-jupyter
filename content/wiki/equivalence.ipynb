{
 "cells": [
  {
   "cell_type": "markdown",
   "id": "f3288656-d094-469e-ba08-1430d3e915f0",
   "metadata": {},
   "source": [
    "# Equivalence\n",
    "\n",
    "[Equivalence](equivalence.ipynb) is a [binary operator](binary_operator.ipynb) with the following truth table:\n",
    "\n",
    "$$\n",
    "\\small\n",
    "\\begin{array}{c|c||c}\n",
    "  p & q & p \\iff q \\\\\n",
    "  \\hline\n",
    "  F & F & T\\\\\n",
    "  F & T & F\\\\\n",
    "  T & F & F\\\\\n",
    "  T & T & T\n",
    "\\end{array}\n",
    "$$\n",
    "\n",
    "Thus, two [propositions](proposition.ipynb) are equivalent if $p \\iff q$ is always True."
   ]
  }
 ],
 "metadata": {
  "kernelspec": {
   "display_name": "Python 3 (ipykernel)",
   "language": "python",
   "name": "python3"
  },
  "language_info": {
   "codemirror_mode": {
    "name": "ipython",
    "version": 3
   },
   "file_extension": ".py",
   "mimetype": "text/x-python",
   "name": "python",
   "nbconvert_exporter": "python",
   "pygments_lexer": "ipython3",
   "version": "3.9.13"
  }
 },
 "nbformat": 4,
 "nbformat_minor": 5
}
