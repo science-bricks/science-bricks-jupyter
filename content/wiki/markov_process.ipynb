{
 "cells": [
  {
   "cell_type": "markdown",
   "id": "9c2aa791-ceaf-4e02-8078-301ed103c080",
   "metadata": {},
   "source": [
    "# Markov Process\n",
    "\n",
    "A [markov process](markov_process.ipynb) is a [stochastic process](stochastic_process.ipynb) $X_0, \\ldots, X_n$ with $n \\in \\mathbb{N}$ such that\n",
    "\n",
    "$$\n",
    "\\mathbb{P}(X_{t+1} | X_t) = \\mathbb{P}(X_{t+1} | X_t,\\ldots,X_0)\n",
    "$$"
   ]
  }
 ],
 "metadata": {
  "kernelspec": {
   "display_name": "Python 3 (ipykernel)",
   "language": "python",
   "name": "python3"
  },
  "language_info": {
   "codemirror_mode": {
    "name": "ipython",
    "version": 3
   },
   "file_extension": ".py",
   "mimetype": "text/x-python",
   "name": "python",
   "nbconvert_exporter": "python",
   "pygments_lexer": "ipython3",
   "version": "3.9.7"
  }
 },
 "nbformat": 4,
 "nbformat_minor": 5
}
