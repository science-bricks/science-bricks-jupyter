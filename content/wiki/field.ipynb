{
 "cells": [
  {
   "cell_type": "markdown",
   "id": "2c069644-c95d-465c-935c-03dce4175de2",
   "metadata": {},
   "source": [
    "# Field\n",
    "A [field](field.ipynb) is a [division algebra](division_algebra.ipynb) $(S,+,\\cdot)$ that, $\\forall a,b \\in S$, satisfies:\n",
    "\n",
    "- $(\\cdot)$ Commutative: \n",
    "$$\n",
    "a \\cdot b = b \\cdot a\n",
    "$$"
   ]
  }
 ],
 "metadata": {
  "kernelspec": {
   "display_name": "Python 3 (ipykernel)",
   "language": "python",
   "name": "python3"
  },
  "language_info": {
   "codemirror_mode": {
    "name": "ipython",
    "version": 3
   },
   "file_extension": ".py",
   "mimetype": "text/x-python",
   "name": "python",
   "nbconvert_exporter": "python",
   "pygments_lexer": "ipython3",
   "version": "3.9.7"
  }
 },
 "nbformat": 4,
 "nbformat_minor": 5
}
