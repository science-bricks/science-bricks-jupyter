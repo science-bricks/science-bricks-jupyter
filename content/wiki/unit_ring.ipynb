{
 "cells": [
  {
   "cell_type": "markdown",
   "id": "caaad409-ff68-478a-be82-7ce9d7a08c2e",
   "metadata": {},
   "source": [
    "# Unit ring \n",
    "\n",
    "A [unit ring](unit_ring.ipynb) is a [ring](ring.ipynb) $(S, +, \\cdot )$ that, $\\forall a \\in S$, satisfies:\n",
    "\n",
    "- $(\\cdot)$ Identity: \n",
    "$$\n",
    "\\exists i : a \\cdot i = i \\cdot a = a\n",
    "$$"
   ]
  }
 ],
 "metadata": {
  "kernelspec": {
   "display_name": "Python 3 (ipykernel)",
   "language": "python",
   "name": "python3"
  },
  "language_info": {
   "codemirror_mode": {
    "name": "ipython",
    "version": 3
   },
   "file_extension": ".py",
   "mimetype": "text/x-python",
   "name": "python",
   "nbconvert_exporter": "python",
   "pygments_lexer": "ipython3",
   "version": "3.9.7"
  }
 },
 "nbformat": 4,
 "nbformat_minor": 5
}
