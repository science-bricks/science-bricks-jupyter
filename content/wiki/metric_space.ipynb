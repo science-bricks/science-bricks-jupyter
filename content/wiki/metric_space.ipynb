{
 "cells": [
  {
   "cell_type": "markdown",
   "id": "a80f5440-c90a-4ac8-90db-2c6f4de62bce",
   "metadata": {},
   "source": [
    "# Metric Space\n",
    "\n",
    "A [metric space](metric_space.ipynb) $(S,d)$\n",
    "is a non empty [set](set.ipynb) $S$  equipped with a [metric](metric.ipynb) $d: S \\times S \\to \\mathbb{R}_{\\geq 0}$, which provides the notion of [distance](distance.ipynb)."
   ]
  }
 ],
 "metadata": {
  "kernelspec": {
   "display_name": "Python 3 (ipykernel)",
   "language": "python",
   "name": "python3"
  },
  "language_info": {
   "codemirror_mode": {
    "name": "ipython",
    "version": 3
   },
   "file_extension": ".py",
   "mimetype": "text/x-python",
   "name": "python",
   "nbconvert_exporter": "python",
   "pygments_lexer": "ipython3",
   "version": "3.9.7"
  }
 },
 "nbformat": 4,
 "nbformat_minor": 5
}
