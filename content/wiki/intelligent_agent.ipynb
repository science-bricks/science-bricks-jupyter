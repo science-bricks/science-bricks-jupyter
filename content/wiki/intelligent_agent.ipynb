{
 "cells": [
  {
   "cell_type": "markdown",
   "id": "fd2dd1a6-19d7-4d84-8e51-6e4a0a44fd9c",
   "metadata": {},
   "source": [
    "# Intelligent Agent\n",
    "\n",
    "An [Intelligent Agent](intelligent_agent.ipynb) is a [program](program.ipynb) that is able to [perceive](perceive.ipynb) and [act](act.ipynb) to [optimize](optimize.ipynb) a given [goal](goal.ipynb).\n",
    "\n",
    "<div align=\"center\">\n",
    "<img src=\"img/alpha_go.jpg\">\n",
    "</div>\n",
    "\n",
    "<div align=\"center\"> AlphaGo [<a href=\"https://deepmind.com/research/case-studies/alphago-the-story-so-far\">DeepMind, 2017</a>]\n",
    "</div>"
   ]
  }
 ],
 "metadata": {
  "kernelspec": {
   "display_name": "Python 3 (ipykernel)",
   "language": "python",
   "name": "python3"
  },
  "language_info": {
   "codemirror_mode": {
    "name": "ipython",
    "version": 3
   },
   "file_extension": ".py",
   "mimetype": "text/x-python",
   "name": "python",
   "nbconvert_exporter": "python",
   "pygments_lexer": "ipython3",
   "version": "3.10.8"
  }
 },
 "nbformat": 4,
 "nbformat_minor": 5
}
