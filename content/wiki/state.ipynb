{
 "cells": [
  {
   "cell_type": "markdown",
   "id": "f36d0528-e0f4-4e82-b396-a84d3acbcb30",
   "metadata": {},
   "source": [
    "# State\n",
    "\n",
    "A [state](state.ipynb) $s \\in S$ is an [element](element.ipynb) from a [State Space](state_space.ipynb) $S$."
   ]
  }
 ],
 "metadata": {
  "kernelspec": {
   "display_name": "Python 3 (ipykernel)",
   "language": "python",
   "name": "python3"
  },
  "language_info": {
   "codemirror_mode": {
    "name": "ipython",
    "version": 3
   },
   "file_extension": ".py",
   "mimetype": "text/x-python",
   "name": "python",
   "nbconvert_exporter": "python",
   "pygments_lexer": "ipython3",
   "version": "3.10.7"
  }
 },
 "nbformat": 4,
 "nbformat_minor": 5
}
