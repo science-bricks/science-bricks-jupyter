{
 "cells": [
  {
   "cell_type": "markdown",
   "id": "de9eef7d-a5eb-4f3f-b884-baca633c9bd8",
   "metadata": {},
   "source": [
    "# Finite measure\n",
    "\n",
    "A [finite measure](finite_measure.ipynb) is a [measure](measure.ipynb) if there exist an exhaustive sequence such that every single of those measures is finite:\n",
    "\n",
    "$$\n",
    "\\exists \\{A_n\\} \\subseteq \\sigma : \\bigcup_{n\\geq 1}A_n = M : \\mu(A_n) < \\infty \\forall n \\in \\mathbb{N}\n",
    "$$"
   ]
  }
 ],
 "metadata": {
  "kernelspec": {
   "display_name": "Python 3 (ipykernel)",
   "language": "python",
   "name": "python3"
  },
  "language_info": {
   "codemirror_mode": {
    "name": "ipython",
    "version": 3
   },
   "file_extension": ".py",
   "mimetype": "text/x-python",
   "name": "python",
   "nbconvert_exporter": "python",
   "pygments_lexer": "ipython3",
   "version": "3.9.7"
  }
 },
 "nbformat": 4,
 "nbformat_minor": 5
}
