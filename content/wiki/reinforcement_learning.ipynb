{
  "metadata": {
    "kernelspec": {
      "name": "python",
      "display_name": "Python (Pyodide)",
      "language": "python"
    },
    "language_info": {
      "codemirror_mode": {
        "name": "python",
        "version": 3
      },
      "file_extension": ".py",
      "mimetype": "text/x-python",
      "name": "python",
      "nbconvert_exporter": "python",
      "pygments_lexer": "ipython3",
      "version": "3.8"
    }
  },
  "nbformat_minor": 5,
  "nbformat": 4,
  "cells": [
    {
      "cell_type": "markdown",
      "source": "# Reinforcement Learning\n[Reinforcement Learning](reinforcement_learning.ipynb) is the field of [AI](artificial_intelligence.ipynb) that studies how [Intelligent Agents](intelligent_agent.ipynb) should make [decisions](decision.ipynb).",
      "metadata": {},
      "id": "7bc63a40-7d77-40a9-9424-a84be5ec1f0d"
    }
  ]
}